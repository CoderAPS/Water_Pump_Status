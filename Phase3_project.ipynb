{
 "cells": [
  {
   "cell_type": "markdown",
   "metadata": {},
   "source": [
    "# Water Pump Status"
   ]
  },
  {
   "cell_type": "markdown",
   "metadata": {},
   "source": [
    "#### Flatiron Data Science Course - Project 3\n",
    "#### Created by Nick Hall and Ahmad Samiee"
   ]
  },
  {
   "cell_type": "markdown",
   "metadata": {},
   "source": [
    "## Project Overview\n",
    "For this project we will solving a classification problem. We will use models appropriate for classification to make prediction for given unseen data.  The dateset is split into two, one for training the models and the other for testing/verifying the performance of our models. Also, we take the approach of trying a couple of different models starting out with simple model with low performance and working toward better models with better performance."
   ]
  },
  {
   "cell_type": "markdown",
   "metadata": {},
   "source": [
    "## Technical Summary\n",
    "This project is a binary classification problem where prediction models are trained to predict the status of water pumps, especially those water pumps needing repair or operationally non-functional. Because of our business objective, we have decided to use recall for our model primary metric and accuracy for overall performance. Recall in this situation means what percentage of water pumps that are broken or need repair can our model predict correctly.  RandomForest is our best model with a recall of 0.77 and accuracy of 0.83."
   ]
  },
  {
   "cell_type": "markdown",
   "metadata": {},
   "source": [
    "## Business Problem\n",
    "We have been tasked by our stakeholder, Tanzanian Ministry of Water, to setup a model that can predict water pumps needing repair or operationally non-functional. Because of our business objective, we have decided to use recall for our model metric. Recall in this situation means what percentage of water pumps that are broken or need repair can our model predict correctly."
   ]
  },
  {
   "cell_type": "markdown",
   "metadata": {},
   "source": [
    "## Master Dataset\n",
    "The dataset was obtained from from [DrivenData](https://www.drivendata.org) and the records were collected by Taarifa and Tanzanian Ministry of Water.  After the data was read into pandas dataframe it was split into two where 70% of data (41,580 records) was used for training the models and 30% (17,820 records) was used to verify prediction performance of the various models.\n"
   ]
  },
  {
   "cell_type": "markdown",
   "metadata": {},
   "source": [
    "## Data Cleaning,Feature Engineering and Processing\n",
    "The original target consisted of three categories: 'functional', 'non-functional' and 'functional needs repair'. This was feature engineered into two categories by creating a new column. If the the pump was 'functional' a value of 0 was assigned to this new column and if the pump was 'non-fuctional' or 'functional needs repair' a value of 1 was assigned to this new column.<br>\n",
    "Missing or NAN values for categorical features was filled with most frequent value and for numerical features the average for the column was used to fill in or replace. Most this was accomplished with sklearn Imputer. The the categorical features were then processed with sklearn's OneHotEncoder and the numerical features were processed with StandardScaler. The data was then split into train and test."
   ]
  },
  {
   "cell_type": "code",
   "execution_count": 1,
   "metadata": {},
   "outputs": [],
   "source": [
    "import pandas as pd\n",
    "import numpy as np\n",
    "import seaborn as sns\n",
    "import matplotlib.pyplot as plt\n",
    "import time\n",
    "\n",
    "from sklearn.model_selection import train_test_split, cross_validate,GridSearchCV\n",
    "from sklearn.pipeline import Pipeline\n",
    "from sklearn.compose import ColumnTransformer\n",
    "from sklearn.impute import SimpleImputer\n",
    "from sklearn.dummy import DummyClassifier\n",
    "from sklearn import metrics\n",
    "from sklearn.metrics import recall_score,accuracy_score,plot_confusion_matrix\n",
    "from sklearn.metrics import RocCurveDisplay,confusion_matrix\n",
    "from sklearn.preprocessing import OneHotEncoder,StandardScaler,OrdinalEncoder\n",
    "from sklearn.tree import DecisionTreeClassifier\n",
    "from sklearn.neighbors import KNeighborsClassifier\n",
    "from sklearn.linear_model import LogisticRegression\n",
    "from sklearn.ensemble import RandomForestClassifier, VotingClassifier\n",
    "import xgboost as xgb\n",
    "import time\n",
    "\n",
    "\n",
    "%matplotlib inline"
   ]
  },
  {
   "cell_type": "code",
   "execution_count": 2,
   "metadata": {},
   "outputs": [
    {
     "data": {
      "text/html": [
       "<div>\n",
       "<style scoped>\n",
       "    .dataframe tbody tr th:only-of-type {\n",
       "        vertical-align: middle;\n",
       "    }\n",
       "\n",
       "    .dataframe tbody tr th {\n",
       "        vertical-align: top;\n",
       "    }\n",
       "\n",
       "    .dataframe thead th {\n",
       "        text-align: right;\n",
       "    }\n",
       "</style>\n",
       "<table border=\"1\" class=\"dataframe\">\n",
       "  <thead>\n",
       "    <tr style=\"text-align: right;\">\n",
       "      <th></th>\n",
       "      <th>id</th>\n",
       "      <th>amount_tsh</th>\n",
       "      <th>date_recorded</th>\n",
       "      <th>funder</th>\n",
       "      <th>gps_height</th>\n",
       "      <th>installer</th>\n",
       "      <th>longitude</th>\n",
       "      <th>latitude</th>\n",
       "      <th>wpt_name</th>\n",
       "      <th>num_private</th>\n",
       "      <th>...</th>\n",
       "      <th>payment_type</th>\n",
       "      <th>water_quality</th>\n",
       "      <th>quality_group</th>\n",
       "      <th>quantity</th>\n",
       "      <th>quantity_group</th>\n",
       "      <th>source</th>\n",
       "      <th>source_type</th>\n",
       "      <th>source_class</th>\n",
       "      <th>waterpoint_type</th>\n",
       "      <th>waterpoint_type_group</th>\n",
       "    </tr>\n",
       "  </thead>\n",
       "  <tbody>\n",
       "    <tr>\n",
       "      <th>0</th>\n",
       "      <td>69572</td>\n",
       "      <td>6000.0</td>\n",
       "      <td>2011-03-14</td>\n",
       "      <td>Roman</td>\n",
       "      <td>1390</td>\n",
       "      <td>Roman</td>\n",
       "      <td>34.938093</td>\n",
       "      <td>-9.856322</td>\n",
       "      <td>none</td>\n",
       "      <td>0</td>\n",
       "      <td>...</td>\n",
       "      <td>annually</td>\n",
       "      <td>soft</td>\n",
       "      <td>good</td>\n",
       "      <td>enough</td>\n",
       "      <td>enough</td>\n",
       "      <td>spring</td>\n",
       "      <td>spring</td>\n",
       "      <td>groundwater</td>\n",
       "      <td>communal standpipe</td>\n",
       "      <td>communal standpipe</td>\n",
       "    </tr>\n",
       "    <tr>\n",
       "      <th>1</th>\n",
       "      <td>8776</td>\n",
       "      <td>0.0</td>\n",
       "      <td>2013-03-06</td>\n",
       "      <td>Grumeti</td>\n",
       "      <td>1399</td>\n",
       "      <td>GRUMETI</td>\n",
       "      <td>34.698766</td>\n",
       "      <td>-2.147466</td>\n",
       "      <td>Zahanati</td>\n",
       "      <td>0</td>\n",
       "      <td>...</td>\n",
       "      <td>never pay</td>\n",
       "      <td>soft</td>\n",
       "      <td>good</td>\n",
       "      <td>insufficient</td>\n",
       "      <td>insufficient</td>\n",
       "      <td>rainwater harvesting</td>\n",
       "      <td>rainwater harvesting</td>\n",
       "      <td>surface</td>\n",
       "      <td>communal standpipe</td>\n",
       "      <td>communal standpipe</td>\n",
       "    </tr>\n",
       "    <tr>\n",
       "      <th>2</th>\n",
       "      <td>34310</td>\n",
       "      <td>25.0</td>\n",
       "      <td>2013-02-25</td>\n",
       "      <td>Lottery Club</td>\n",
       "      <td>686</td>\n",
       "      <td>World vision</td>\n",
       "      <td>37.460664</td>\n",
       "      <td>-3.821329</td>\n",
       "      <td>Kwa Mahundi</td>\n",
       "      <td>0</td>\n",
       "      <td>...</td>\n",
       "      <td>per bucket</td>\n",
       "      <td>soft</td>\n",
       "      <td>good</td>\n",
       "      <td>enough</td>\n",
       "      <td>enough</td>\n",
       "      <td>dam</td>\n",
       "      <td>dam</td>\n",
       "      <td>surface</td>\n",
       "      <td>communal standpipe multiple</td>\n",
       "      <td>communal standpipe</td>\n",
       "    </tr>\n",
       "    <tr>\n",
       "      <th>3</th>\n",
       "      <td>67743</td>\n",
       "      <td>0.0</td>\n",
       "      <td>2013-01-28</td>\n",
       "      <td>Unicef</td>\n",
       "      <td>263</td>\n",
       "      <td>UNICEF</td>\n",
       "      <td>38.486161</td>\n",
       "      <td>-11.155298</td>\n",
       "      <td>Zahanati Ya Nanyumbu</td>\n",
       "      <td>0</td>\n",
       "      <td>...</td>\n",
       "      <td>never pay</td>\n",
       "      <td>soft</td>\n",
       "      <td>good</td>\n",
       "      <td>dry</td>\n",
       "      <td>dry</td>\n",
       "      <td>machine dbh</td>\n",
       "      <td>borehole</td>\n",
       "      <td>groundwater</td>\n",
       "      <td>communal standpipe multiple</td>\n",
       "      <td>communal standpipe</td>\n",
       "    </tr>\n",
       "    <tr>\n",
       "      <th>4</th>\n",
       "      <td>19728</td>\n",
       "      <td>0.0</td>\n",
       "      <td>2011-07-13</td>\n",
       "      <td>Action In A</td>\n",
       "      <td>0</td>\n",
       "      <td>Artisan</td>\n",
       "      <td>31.130847</td>\n",
       "      <td>-1.825359</td>\n",
       "      <td>Shuleni</td>\n",
       "      <td>0</td>\n",
       "      <td>...</td>\n",
       "      <td>never pay</td>\n",
       "      <td>soft</td>\n",
       "      <td>good</td>\n",
       "      <td>seasonal</td>\n",
       "      <td>seasonal</td>\n",
       "      <td>rainwater harvesting</td>\n",
       "      <td>rainwater harvesting</td>\n",
       "      <td>surface</td>\n",
       "      <td>communal standpipe</td>\n",
       "      <td>communal standpipe</td>\n",
       "    </tr>\n",
       "  </tbody>\n",
       "</table>\n",
       "<p>5 rows × 40 columns</p>\n",
       "</div>"
      ],
      "text/plain": [
       "      id  amount_tsh date_recorded        funder  gps_height     installer  \\\n",
       "0  69572      6000.0    2011-03-14         Roman        1390         Roman   \n",
       "1   8776         0.0    2013-03-06       Grumeti        1399       GRUMETI   \n",
       "2  34310        25.0    2013-02-25  Lottery Club         686  World vision   \n",
       "3  67743         0.0    2013-01-28        Unicef         263        UNICEF   \n",
       "4  19728         0.0    2011-07-13   Action In A           0       Artisan   \n",
       "\n",
       "   longitude   latitude              wpt_name  num_private  ... payment_type  \\\n",
       "0  34.938093  -9.856322                  none            0  ...     annually   \n",
       "1  34.698766  -2.147466              Zahanati            0  ...    never pay   \n",
       "2  37.460664  -3.821329           Kwa Mahundi            0  ...   per bucket   \n",
       "3  38.486161 -11.155298  Zahanati Ya Nanyumbu            0  ...    never pay   \n",
       "4  31.130847  -1.825359               Shuleni            0  ...    never pay   \n",
       "\n",
       "  water_quality quality_group      quantity  quantity_group  \\\n",
       "0          soft          good        enough          enough   \n",
       "1          soft          good  insufficient    insufficient   \n",
       "2          soft          good        enough          enough   \n",
       "3          soft          good           dry             dry   \n",
       "4          soft          good      seasonal        seasonal   \n",
       "\n",
       "                 source           source_type  source_class  \\\n",
       "0                spring                spring   groundwater   \n",
       "1  rainwater harvesting  rainwater harvesting       surface   \n",
       "2                   dam                   dam       surface   \n",
       "3           machine dbh              borehole   groundwater   \n",
       "4  rainwater harvesting  rainwater harvesting       surface   \n",
       "\n",
       "               waterpoint_type waterpoint_type_group  \n",
       "0           communal standpipe    communal standpipe  \n",
       "1           communal standpipe    communal standpipe  \n",
       "2  communal standpipe multiple    communal standpipe  \n",
       "3  communal standpipe multiple    communal standpipe  \n",
       "4           communal standpipe    communal standpipe  \n",
       "\n",
       "[5 rows x 40 columns]"
      ]
     },
     "execution_count": 2,
     "metadata": {},
     "output_type": "execute_result"
    }
   ],
   "source": [
    "# Load data features\n",
    "\n",
    "features = pd.read_csv('data/4910797b-ee55-40a7-8668-10efd5c1b960.csv')\n",
    "features.head()\n"
   ]
  },
  {
   "cell_type": "code",
   "execution_count": 3,
   "metadata": {},
   "outputs": [
    {
     "data": {
      "text/html": [
       "<div>\n",
       "<style scoped>\n",
       "    .dataframe tbody tr th:only-of-type {\n",
       "        vertical-align: middle;\n",
       "    }\n",
       "\n",
       "    .dataframe tbody tr th {\n",
       "        vertical-align: top;\n",
       "    }\n",
       "\n",
       "    .dataframe thead th {\n",
       "        text-align: right;\n",
       "    }\n",
       "</style>\n",
       "<table border=\"1\" class=\"dataframe\">\n",
       "  <thead>\n",
       "    <tr style=\"text-align: right;\">\n",
       "      <th></th>\n",
       "      <th>id</th>\n",
       "      <th>status_group</th>\n",
       "    </tr>\n",
       "  </thead>\n",
       "  <tbody>\n",
       "    <tr>\n",
       "      <th>0</th>\n",
       "      <td>69572</td>\n",
       "      <td>functional</td>\n",
       "    </tr>\n",
       "    <tr>\n",
       "      <th>1</th>\n",
       "      <td>8776</td>\n",
       "      <td>functional</td>\n",
       "    </tr>\n",
       "    <tr>\n",
       "      <th>2</th>\n",
       "      <td>34310</td>\n",
       "      <td>functional</td>\n",
       "    </tr>\n",
       "    <tr>\n",
       "      <th>3</th>\n",
       "      <td>67743</td>\n",
       "      <td>non functional</td>\n",
       "    </tr>\n",
       "    <tr>\n",
       "      <th>4</th>\n",
       "      <td>19728</td>\n",
       "      <td>functional</td>\n",
       "    </tr>\n",
       "  </tbody>\n",
       "</table>\n",
       "</div>"
      ],
      "text/plain": [
       "      id    status_group\n",
       "0  69572      functional\n",
       "1   8776      functional\n",
       "2  34310      functional\n",
       "3  67743  non functional\n",
       "4  19728      functional"
      ]
     },
     "execution_count": 3,
     "metadata": {},
     "output_type": "execute_result"
    }
   ],
   "source": [
    "# Load data target\n",
    "\n",
    "target = pd.read_csv('data/0bf8bc6e-30d0-4c50-956a-603fc693d966.csv')\n",
    "target.head()"
   ]
  },
  {
   "cell_type": "code",
   "execution_count": 4,
   "metadata": {},
   "outputs": [
    {
     "data": {
      "text/html": [
       "<div>\n",
       "<style scoped>\n",
       "    .dataframe tbody tr th:only-of-type {\n",
       "        vertical-align: middle;\n",
       "    }\n",
       "\n",
       "    .dataframe tbody tr th {\n",
       "        vertical-align: top;\n",
       "    }\n",
       "\n",
       "    .dataframe thead th {\n",
       "        text-align: right;\n",
       "    }\n",
       "</style>\n",
       "<table border=\"1\" class=\"dataframe\">\n",
       "  <thead>\n",
       "    <tr style=\"text-align: right;\">\n",
       "      <th></th>\n",
       "      <th>id</th>\n",
       "      <th>amount_tsh</th>\n",
       "      <th>date_recorded</th>\n",
       "      <th>funder</th>\n",
       "      <th>gps_height</th>\n",
       "      <th>installer</th>\n",
       "      <th>longitude</th>\n",
       "      <th>latitude</th>\n",
       "      <th>wpt_name</th>\n",
       "      <th>num_private</th>\n",
       "      <th>...</th>\n",
       "      <th>water_quality</th>\n",
       "      <th>quality_group</th>\n",
       "      <th>quantity</th>\n",
       "      <th>quantity_group</th>\n",
       "      <th>source</th>\n",
       "      <th>source_type</th>\n",
       "      <th>source_class</th>\n",
       "      <th>waterpoint_type</th>\n",
       "      <th>waterpoint_type_group</th>\n",
       "      <th>status_group</th>\n",
       "    </tr>\n",
       "  </thead>\n",
       "  <tbody>\n",
       "    <tr>\n",
       "      <th>0</th>\n",
       "      <td>69572</td>\n",
       "      <td>6000.0</td>\n",
       "      <td>2011-03-14</td>\n",
       "      <td>Roman</td>\n",
       "      <td>1390</td>\n",
       "      <td>Roman</td>\n",
       "      <td>34.938093</td>\n",
       "      <td>-9.856322</td>\n",
       "      <td>none</td>\n",
       "      <td>0</td>\n",
       "      <td>...</td>\n",
       "      <td>soft</td>\n",
       "      <td>good</td>\n",
       "      <td>enough</td>\n",
       "      <td>enough</td>\n",
       "      <td>spring</td>\n",
       "      <td>spring</td>\n",
       "      <td>groundwater</td>\n",
       "      <td>communal standpipe</td>\n",
       "      <td>communal standpipe</td>\n",
       "      <td>functional</td>\n",
       "    </tr>\n",
       "    <tr>\n",
       "      <th>1</th>\n",
       "      <td>8776</td>\n",
       "      <td>0.0</td>\n",
       "      <td>2013-03-06</td>\n",
       "      <td>Grumeti</td>\n",
       "      <td>1399</td>\n",
       "      <td>GRUMETI</td>\n",
       "      <td>34.698766</td>\n",
       "      <td>-2.147466</td>\n",
       "      <td>Zahanati</td>\n",
       "      <td>0</td>\n",
       "      <td>...</td>\n",
       "      <td>soft</td>\n",
       "      <td>good</td>\n",
       "      <td>insufficient</td>\n",
       "      <td>insufficient</td>\n",
       "      <td>rainwater harvesting</td>\n",
       "      <td>rainwater harvesting</td>\n",
       "      <td>surface</td>\n",
       "      <td>communal standpipe</td>\n",
       "      <td>communal standpipe</td>\n",
       "      <td>functional</td>\n",
       "    </tr>\n",
       "    <tr>\n",
       "      <th>2</th>\n",
       "      <td>34310</td>\n",
       "      <td>25.0</td>\n",
       "      <td>2013-02-25</td>\n",
       "      <td>Lottery Club</td>\n",
       "      <td>686</td>\n",
       "      <td>World vision</td>\n",
       "      <td>37.460664</td>\n",
       "      <td>-3.821329</td>\n",
       "      <td>Kwa Mahundi</td>\n",
       "      <td>0</td>\n",
       "      <td>...</td>\n",
       "      <td>soft</td>\n",
       "      <td>good</td>\n",
       "      <td>enough</td>\n",
       "      <td>enough</td>\n",
       "      <td>dam</td>\n",
       "      <td>dam</td>\n",
       "      <td>surface</td>\n",
       "      <td>communal standpipe multiple</td>\n",
       "      <td>communal standpipe</td>\n",
       "      <td>functional</td>\n",
       "    </tr>\n",
       "    <tr>\n",
       "      <th>3</th>\n",
       "      <td>67743</td>\n",
       "      <td>0.0</td>\n",
       "      <td>2013-01-28</td>\n",
       "      <td>Unicef</td>\n",
       "      <td>263</td>\n",
       "      <td>UNICEF</td>\n",
       "      <td>38.486161</td>\n",
       "      <td>-11.155298</td>\n",
       "      <td>Zahanati Ya Nanyumbu</td>\n",
       "      <td>0</td>\n",
       "      <td>...</td>\n",
       "      <td>soft</td>\n",
       "      <td>good</td>\n",
       "      <td>dry</td>\n",
       "      <td>dry</td>\n",
       "      <td>machine dbh</td>\n",
       "      <td>borehole</td>\n",
       "      <td>groundwater</td>\n",
       "      <td>communal standpipe multiple</td>\n",
       "      <td>communal standpipe</td>\n",
       "      <td>non functional</td>\n",
       "    </tr>\n",
       "    <tr>\n",
       "      <th>4</th>\n",
       "      <td>19728</td>\n",
       "      <td>0.0</td>\n",
       "      <td>2011-07-13</td>\n",
       "      <td>Action In A</td>\n",
       "      <td>0</td>\n",
       "      <td>Artisan</td>\n",
       "      <td>31.130847</td>\n",
       "      <td>-1.825359</td>\n",
       "      <td>Shuleni</td>\n",
       "      <td>0</td>\n",
       "      <td>...</td>\n",
       "      <td>soft</td>\n",
       "      <td>good</td>\n",
       "      <td>seasonal</td>\n",
       "      <td>seasonal</td>\n",
       "      <td>rainwater harvesting</td>\n",
       "      <td>rainwater harvesting</td>\n",
       "      <td>surface</td>\n",
       "      <td>communal standpipe</td>\n",
       "      <td>communal standpipe</td>\n",
       "      <td>functional</td>\n",
       "    </tr>\n",
       "  </tbody>\n",
       "</table>\n",
       "<p>5 rows × 41 columns</p>\n",
       "</div>"
      ],
      "text/plain": [
       "      id  amount_tsh date_recorded        funder  gps_height     installer  \\\n",
       "0  69572      6000.0    2011-03-14         Roman        1390         Roman   \n",
       "1   8776         0.0    2013-03-06       Grumeti        1399       GRUMETI   \n",
       "2  34310        25.0    2013-02-25  Lottery Club         686  World vision   \n",
       "3  67743         0.0    2013-01-28        Unicef         263        UNICEF   \n",
       "4  19728         0.0    2011-07-13   Action In A           0       Artisan   \n",
       "\n",
       "   longitude   latitude              wpt_name  num_private  ... water_quality  \\\n",
       "0  34.938093  -9.856322                  none            0  ...          soft   \n",
       "1  34.698766  -2.147466              Zahanati            0  ...          soft   \n",
       "2  37.460664  -3.821329           Kwa Mahundi            0  ...          soft   \n",
       "3  38.486161 -11.155298  Zahanati Ya Nanyumbu            0  ...          soft   \n",
       "4  31.130847  -1.825359               Shuleni            0  ...          soft   \n",
       "\n",
       "  quality_group      quantity  quantity_group                source  \\\n",
       "0          good        enough          enough                spring   \n",
       "1          good  insufficient    insufficient  rainwater harvesting   \n",
       "2          good        enough          enough                   dam   \n",
       "3          good           dry             dry           machine dbh   \n",
       "4          good      seasonal        seasonal  rainwater harvesting   \n",
       "\n",
       "            source_type source_class              waterpoint_type  \\\n",
       "0                spring  groundwater           communal standpipe   \n",
       "1  rainwater harvesting      surface           communal standpipe   \n",
       "2                   dam      surface  communal standpipe multiple   \n",
       "3              borehole  groundwater  communal standpipe multiple   \n",
       "4  rainwater harvesting      surface           communal standpipe   \n",
       "\n",
       "  waterpoint_type_group    status_group  \n",
       "0    communal standpipe      functional  \n",
       "1    communal standpipe      functional  \n",
       "2    communal standpipe      functional  \n",
       "3    communal standpipe  non functional  \n",
       "4    communal standpipe      functional  \n",
       "\n",
       "[5 rows x 41 columns]"
      ]
     },
     "execution_count": 4,
     "metadata": {},
     "output_type": "execute_result"
    }
   ],
   "source": [
    "# Combine data features and target into single dataframe\n",
    "\n",
    "combined_df = pd.concat([features,target['status_group']],axis=1)\n",
    "combined_df.head()"
   ]
  },
  {
   "cell_type": "code",
   "execution_count": 5,
   "metadata": {},
   "outputs": [
    {
     "name": "stdout",
     "output_type": "stream",
     "text": [
      "<class 'pandas.core.frame.DataFrame'>\n",
      "RangeIndex: 59400 entries, 0 to 59399\n",
      "Data columns (total 41 columns):\n",
      " #   Column                 Non-Null Count  Dtype  \n",
      "---  ------                 --------------  -----  \n",
      " 0   id                     59400 non-null  int64  \n",
      " 1   amount_tsh             59400 non-null  float64\n",
      " 2   date_recorded          59400 non-null  object \n",
      " 3   funder                 55765 non-null  object \n",
      " 4   gps_height             59400 non-null  int64  \n",
      " 5   installer              55745 non-null  object \n",
      " 6   longitude              59400 non-null  float64\n",
      " 7   latitude               59400 non-null  float64\n",
      " 8   wpt_name               59400 non-null  object \n",
      " 9   num_private            59400 non-null  int64  \n",
      " 10  basin                  59400 non-null  object \n",
      " 11  subvillage             59029 non-null  object \n",
      " 12  region                 59400 non-null  object \n",
      " 13  region_code            59400 non-null  int64  \n",
      " 14  district_code          59400 non-null  int64  \n",
      " 15  lga                    59400 non-null  object \n",
      " 16  ward                   59400 non-null  object \n",
      " 17  population             59400 non-null  int64  \n",
      " 18  public_meeting         56066 non-null  object \n",
      " 19  recorded_by            59400 non-null  object \n",
      " 20  scheme_management      55523 non-null  object \n",
      " 21  scheme_name            31234 non-null  object \n",
      " 22  permit                 56344 non-null  object \n",
      " 23  construction_year      59400 non-null  int64  \n",
      " 24  extraction_type        59400 non-null  object \n",
      " 25  extraction_type_group  59400 non-null  object \n",
      " 26  extraction_type_class  59400 non-null  object \n",
      " 27  management             59400 non-null  object \n",
      " 28  management_group       59400 non-null  object \n",
      " 29  payment                59400 non-null  object \n",
      " 30  payment_type           59400 non-null  object \n",
      " 31  water_quality          59400 non-null  object \n",
      " 32  quality_group          59400 non-null  object \n",
      " 33  quantity               59400 non-null  object \n",
      " 34  quantity_group         59400 non-null  object \n",
      " 35  source                 59400 non-null  object \n",
      " 36  source_type            59400 non-null  object \n",
      " 37  source_class           59400 non-null  object \n",
      " 38  waterpoint_type        59400 non-null  object \n",
      " 39  waterpoint_type_group  59400 non-null  object \n",
      " 40  status_group           59400 non-null  object \n",
      "dtypes: float64(3), int64(7), object(31)\n",
      "memory usage: 18.6+ MB\n"
     ]
    }
   ],
   "source": [
    "combined_df.info()"
   ]
  },
  {
   "cell_type": "code",
   "execution_count": 6,
   "metadata": {},
   "outputs": [
    {
     "data": {
      "text/plain": [
       "id                           0\n",
       "amount_tsh                   0\n",
       "date_recorded                0\n",
       "funder                    3635\n",
       "gps_height                   0\n",
       "installer                 3655\n",
       "longitude                    0\n",
       "latitude                     0\n",
       "wpt_name                     0\n",
       "num_private                  0\n",
       "basin                        0\n",
       "subvillage                 371\n",
       "region                       0\n",
       "region_code                  0\n",
       "district_code                0\n",
       "lga                          0\n",
       "ward                         0\n",
       "population                   0\n",
       "public_meeting            3334\n",
       "recorded_by                  0\n",
       "scheme_management         3877\n",
       "scheme_name              28166\n",
       "permit                    3056\n",
       "construction_year            0\n",
       "extraction_type              0\n",
       "extraction_type_group        0\n",
       "extraction_type_class        0\n",
       "management                   0\n",
       "management_group             0\n",
       "payment                      0\n",
       "payment_type                 0\n",
       "water_quality                0\n",
       "quality_group                0\n",
       "quantity                     0\n",
       "quantity_group               0\n",
       "source                       0\n",
       "source_type                  0\n",
       "source_class                 0\n",
       "waterpoint_type              0\n",
       "waterpoint_type_group        0\n",
       "status_group                 0\n",
       "dtype: int64"
      ]
     },
     "execution_count": 6,
     "metadata": {},
     "output_type": "execute_result"
    }
   ],
   "source": [
    "# check for NAN\n",
    "combined_df.isna().sum()"
   ]
  },
  {
   "cell_type": "code",
   "execution_count": 7,
   "metadata": {},
   "outputs": [
    {
     "data": {
      "text/plain": [
       "id                       0.0\n",
       "amount_tsh               0.0\n",
       "date_recorded            0.0\n",
       "funder                   0.0\n",
       "gps_height               0.0\n",
       "installer                0.0\n",
       "longitude                0.0\n",
       "latitude                 0.0\n",
       "wpt_name                 0.0\n",
       "num_private              0.0\n",
       "basin                    0.0\n",
       "subvillage               0.0\n",
       "region                   0.0\n",
       "region_code              0.0\n",
       "district_code            0.0\n",
       "lga                      0.0\n",
       "ward                     0.0\n",
       "population               0.0\n",
       "public_meeting           0.0\n",
       "recorded_by              0.0\n",
       "scheme_management        0.0\n",
       "scheme_name              0.0\n",
       "permit                   0.0\n",
       "construction_year        0.0\n",
       "extraction_type          0.0\n",
       "extraction_type_group    0.0\n",
       "extraction_type_class    0.0\n",
       "management               0.0\n",
       "management_group         0.0\n",
       "payment                  0.0\n",
       "payment_type             0.0\n",
       "water_quality            0.0\n",
       "quality_group            0.0\n",
       "quantity                 0.0\n",
       "quantity_group           0.0\n",
       "source                   0.0\n",
       "source_type              0.0\n",
       "source_class             0.0\n",
       "waterpoint_type          0.0\n",
       "waterpoint_type_group    0.0\n",
       "status_group             0.0\n",
       "dtype: float64"
      ]
     },
     "execution_count": 7,
     "metadata": {},
     "output_type": "execute_result"
    }
   ],
   "source": [
    "# check for blank entries\n",
    "\n",
    "combined_df[(combined_df == '') | (combined_df == ' ')].sum()"
   ]
  },
  {
   "cell_type": "code",
   "execution_count": 8,
   "metadata": {},
   "outputs": [
    {
     "data": {
      "text/html": [
       "<div>\n",
       "<style scoped>\n",
       "    .dataframe tbody tr th:only-of-type {\n",
       "        vertical-align: middle;\n",
       "    }\n",
       "\n",
       "    .dataframe tbody tr th {\n",
       "        vertical-align: top;\n",
       "    }\n",
       "\n",
       "    .dataframe thead th {\n",
       "        text-align: right;\n",
       "    }\n",
       "</style>\n",
       "<table border=\"1\" class=\"dataframe\">\n",
       "  <thead>\n",
       "    <tr style=\"text-align: right;\">\n",
       "      <th></th>\n",
       "      <th>id</th>\n",
       "      <th>amount_tsh</th>\n",
       "      <th>date_recorded</th>\n",
       "      <th>funder</th>\n",
       "      <th>gps_height</th>\n",
       "      <th>installer</th>\n",
       "      <th>longitude</th>\n",
       "      <th>latitude</th>\n",
       "      <th>wpt_name</th>\n",
       "      <th>num_private</th>\n",
       "      <th>...</th>\n",
       "      <th>water_quality</th>\n",
       "      <th>quality_group</th>\n",
       "      <th>quantity</th>\n",
       "      <th>quantity_group</th>\n",
       "      <th>source</th>\n",
       "      <th>source_type</th>\n",
       "      <th>source_class</th>\n",
       "      <th>waterpoint_type</th>\n",
       "      <th>waterpoint_type_group</th>\n",
       "      <th>status_group</th>\n",
       "    </tr>\n",
       "  </thead>\n",
       "  <tbody>\n",
       "  </tbody>\n",
       "</table>\n",
       "<p>0 rows × 41 columns</p>\n",
       "</div>"
      ],
      "text/plain": [
       "Empty DataFrame\n",
       "Columns: [id, amount_tsh, date_recorded, funder, gps_height, installer, longitude, latitude, wpt_name, num_private, basin, subvillage, region, region_code, district_code, lga, ward, population, public_meeting, recorded_by, scheme_management, scheme_name, permit, construction_year, extraction_type, extraction_type_group, extraction_type_class, management, management_group, payment, payment_type, water_quality, quality_group, quantity, quantity_group, source, source_type, source_class, waterpoint_type, waterpoint_type_group, status_group]\n",
       "Index: []\n",
       "\n",
       "[0 rows x 41 columns]"
      ]
     },
     "execution_count": 8,
     "metadata": {},
     "output_type": "execute_result"
    }
   ],
   "source": [
    "# Check for duplicated records\n",
    "\n",
    "combined_df[combined_df.duplicated()]"
   ]
  },
  {
   "cell_type": "code",
   "execution_count": 9,
   "metadata": {},
   "outputs": [
    {
     "data": {
      "text/html": [
       "<div>\n",
       "<style scoped>\n",
       "    .dataframe tbody tr th:only-of-type {\n",
       "        vertical-align: middle;\n",
       "    }\n",
       "\n",
       "    .dataframe tbody tr th {\n",
       "        vertical-align: top;\n",
       "    }\n",
       "\n",
       "    .dataframe thead th {\n",
       "        text-align: right;\n",
       "    }\n",
       "</style>\n",
       "<table border=\"1\" class=\"dataframe\">\n",
       "  <thead>\n",
       "    <tr style=\"text-align: right;\">\n",
       "      <th></th>\n",
       "      <th>id</th>\n",
       "      <th>amount_tsh</th>\n",
       "      <th>gps_height</th>\n",
       "      <th>longitude</th>\n",
       "      <th>latitude</th>\n",
       "      <th>num_private</th>\n",
       "      <th>region_code</th>\n",
       "      <th>district_code</th>\n",
       "      <th>population</th>\n",
       "      <th>construction_year</th>\n",
       "    </tr>\n",
       "  </thead>\n",
       "  <tbody>\n",
       "    <tr>\n",
       "      <th>count</th>\n",
       "      <td>59400.000000</td>\n",
       "      <td>59400.000000</td>\n",
       "      <td>59400.000000</td>\n",
       "      <td>59400.000000</td>\n",
       "      <td>5.940000e+04</td>\n",
       "      <td>59400.000000</td>\n",
       "      <td>59400.000000</td>\n",
       "      <td>59400.000000</td>\n",
       "      <td>59400.000000</td>\n",
       "      <td>59400.000000</td>\n",
       "    </tr>\n",
       "    <tr>\n",
       "      <th>mean</th>\n",
       "      <td>37115.131768</td>\n",
       "      <td>317.650385</td>\n",
       "      <td>668.297239</td>\n",
       "      <td>34.077427</td>\n",
       "      <td>-5.706033e+00</td>\n",
       "      <td>0.474141</td>\n",
       "      <td>15.297003</td>\n",
       "      <td>5.629747</td>\n",
       "      <td>179.909983</td>\n",
       "      <td>1300.652475</td>\n",
       "    </tr>\n",
       "    <tr>\n",
       "      <th>std</th>\n",
       "      <td>21453.128371</td>\n",
       "      <td>2997.574558</td>\n",
       "      <td>693.116350</td>\n",
       "      <td>6.567432</td>\n",
       "      <td>2.946019e+00</td>\n",
       "      <td>12.236230</td>\n",
       "      <td>17.587406</td>\n",
       "      <td>9.633649</td>\n",
       "      <td>471.482176</td>\n",
       "      <td>951.620547</td>\n",
       "    </tr>\n",
       "    <tr>\n",
       "      <th>min</th>\n",
       "      <td>0.000000</td>\n",
       "      <td>0.000000</td>\n",
       "      <td>-90.000000</td>\n",
       "      <td>0.000000</td>\n",
       "      <td>-1.164944e+01</td>\n",
       "      <td>0.000000</td>\n",
       "      <td>1.000000</td>\n",
       "      <td>0.000000</td>\n",
       "      <td>0.000000</td>\n",
       "      <td>0.000000</td>\n",
       "    </tr>\n",
       "    <tr>\n",
       "      <th>25%</th>\n",
       "      <td>18519.750000</td>\n",
       "      <td>0.000000</td>\n",
       "      <td>0.000000</td>\n",
       "      <td>33.090347</td>\n",
       "      <td>-8.540621e+00</td>\n",
       "      <td>0.000000</td>\n",
       "      <td>5.000000</td>\n",
       "      <td>2.000000</td>\n",
       "      <td>0.000000</td>\n",
       "      <td>0.000000</td>\n",
       "    </tr>\n",
       "    <tr>\n",
       "      <th>50%</th>\n",
       "      <td>37061.500000</td>\n",
       "      <td>0.000000</td>\n",
       "      <td>369.000000</td>\n",
       "      <td>34.908743</td>\n",
       "      <td>-5.021597e+00</td>\n",
       "      <td>0.000000</td>\n",
       "      <td>12.000000</td>\n",
       "      <td>3.000000</td>\n",
       "      <td>25.000000</td>\n",
       "      <td>1986.000000</td>\n",
       "    </tr>\n",
       "    <tr>\n",
       "      <th>75%</th>\n",
       "      <td>55656.500000</td>\n",
       "      <td>20.000000</td>\n",
       "      <td>1319.250000</td>\n",
       "      <td>37.178387</td>\n",
       "      <td>-3.326156e+00</td>\n",
       "      <td>0.000000</td>\n",
       "      <td>17.000000</td>\n",
       "      <td>5.000000</td>\n",
       "      <td>215.000000</td>\n",
       "      <td>2004.000000</td>\n",
       "    </tr>\n",
       "    <tr>\n",
       "      <th>max</th>\n",
       "      <td>74247.000000</td>\n",
       "      <td>350000.000000</td>\n",
       "      <td>2770.000000</td>\n",
       "      <td>40.345193</td>\n",
       "      <td>-2.000000e-08</td>\n",
       "      <td>1776.000000</td>\n",
       "      <td>99.000000</td>\n",
       "      <td>80.000000</td>\n",
       "      <td>30500.000000</td>\n",
       "      <td>2013.000000</td>\n",
       "    </tr>\n",
       "  </tbody>\n",
       "</table>\n",
       "</div>"
      ],
      "text/plain": [
       "                 id     amount_tsh    gps_height     longitude      latitude  \\\n",
       "count  59400.000000   59400.000000  59400.000000  59400.000000  5.940000e+04   \n",
       "mean   37115.131768     317.650385    668.297239     34.077427 -5.706033e+00   \n",
       "std    21453.128371    2997.574558    693.116350      6.567432  2.946019e+00   \n",
       "min        0.000000       0.000000    -90.000000      0.000000 -1.164944e+01   \n",
       "25%    18519.750000       0.000000      0.000000     33.090347 -8.540621e+00   \n",
       "50%    37061.500000       0.000000    369.000000     34.908743 -5.021597e+00   \n",
       "75%    55656.500000      20.000000   1319.250000     37.178387 -3.326156e+00   \n",
       "max    74247.000000  350000.000000   2770.000000     40.345193 -2.000000e-08   \n",
       "\n",
       "        num_private   region_code  district_code    population  \\\n",
       "count  59400.000000  59400.000000   59400.000000  59400.000000   \n",
       "mean       0.474141     15.297003       5.629747    179.909983   \n",
       "std       12.236230     17.587406       9.633649    471.482176   \n",
       "min        0.000000      1.000000       0.000000      0.000000   \n",
       "25%        0.000000      5.000000       2.000000      0.000000   \n",
       "50%        0.000000     12.000000       3.000000     25.000000   \n",
       "75%        0.000000     17.000000       5.000000    215.000000   \n",
       "max     1776.000000     99.000000      80.000000  30500.000000   \n",
       "\n",
       "       construction_year  \n",
       "count       59400.000000  \n",
       "mean         1300.652475  \n",
       "std           951.620547  \n",
       "min             0.000000  \n",
       "25%             0.000000  \n",
       "50%          1986.000000  \n",
       "75%          2004.000000  \n",
       "max          2013.000000  "
      ]
     },
     "execution_count": 9,
     "metadata": {},
     "output_type": "execute_result"
    }
   ],
   "source": [
    "combined_df.describe()"
   ]
  },
  {
   "cell_type": "code",
   "execution_count": 10,
   "metadata": {},
   "outputs": [
    {
     "data": {
      "image/png": "[encoded data removed]",
      "text/plain": [
       "<Figure size 864x576 with 81 Axes>"
      ]
     },
     "metadata": {
      "needs_background": "light"
     },
     "output_type": "display_data"
    }
   ],
   "source": [
    "# Check plot matrix for numeric columns\n",
    "numeric_features = combined_df.select_dtypes(include=['int64','float64'])                                            \n",
    "numeric_cols_names = list(numeric_features.columns)\n",
    "numeric_cols_names.pop(0)\n",
    "pd.plotting.scatter_matrix(combined_df[numeric_cols_names],figsize=(12,8));"
   ]
  },
  {
   "cell_type": "code",
   "execution_count": 11,
   "metadata": {},
   "outputs": [],
   "source": [
    "# split categorical features for from numerical\n",
    "categorical_features = combined_df.select_dtypes(include=['object'])\n",
    "numerical_features = combined_df.select_dtypes(include=['int64','float64'])"
   ]
  },
  {
   "cell_type": "code",
   "execution_count": 12,
   "metadata": {},
   "outputs": [
    {
     "name": "stdout",
     "output_type": "stream",
     "text": [
      "===== Categorical EDA ========= Categorical EDA ========= Categorical EDA ====\n"
     ]
    }
   ],
   "source": [
    "print('===== Categorical EDA ===='*3)"
   ]
  },
  {
   "cell_type": "code",
   "execution_count": 13,
   "metadata": {},
   "outputs": [
    {
     "name": "stdout",
     "output_type": "stream",
     "text": [
      "['date_recorded', 'funder', 'installer', 'wpt_name', 'basin', 'subvillage', 'region', 'lga', 'ward', 'public_meeting', 'recorded_by', 'scheme_management', 'scheme_name', 'permit', 'extraction_type', 'extraction_type_group', 'extraction_type_class', 'management', 'management_group', 'payment', 'payment_type', 'water_quality', 'quality_group', 'quantity', 'quantity_group', 'source', 'source_type', 'source_class', 'waterpoint_type', 'waterpoint_type_group', 'status_group']\n",
      "31\n"
     ]
    }
   ],
   "source": [
    "# Select which categorical features to include\n",
    "categorical_columns = list(categorical_features.columns)\n",
    "print(categorical_columns)\n",
    "print(len(categorical_columns))"
   ]
  },
  {
   "cell_type": "code",
   "execution_count": 14,
   "metadata": {},
   "outputs": [
    {
     "name": "stdout",
     "output_type": "stream",
     "text": [
      "status_group\n",
      "functional                 32259\n",
      "non functional             22824\n",
      "functional needs repair     4317\n",
      "Name: status_group, dtype: int64\n",
      "========================================\n",
      "Number of NaN for status_group: 0\n"
     ]
    }
   ],
   "source": [
    "# Go through each categorical column and decide which ones to include for\n",
    "# analysis\n",
    "\n",
    "num = 30\n",
    "print(categorical_columns[num])\n",
    "print(categorical_features[categorical_columns[num]].value_counts())\n",
    "\n",
    "possible_cat_features_include = ['date_recorded','basin','region','public_meeting',\n",
    "                          'scheme_management',\n",
    "                   'permit','extraction_type','extraction_type_group',\n",
    "                   'extraction_type_class','management','management_group',\n",
    "                   'payment','payment_type','water_quality','quality_group',\n",
    "                   'quantity','quantity_group','source','source_type','source_class',\n",
    "                   'waterpoint_type','waterpoint_type_group','status_group']\n",
    "\n",
    "\n",
    "cat_features_exclude = ['funder','installer','wpt_name','subvillage','lga','ward',\n",
    "                   'recorded_by','scheme_name']\n",
    "\n",
    "\n",
    "num_nans = categorical_features[categorical_columns[num]].isna().sum()\n",
    "print('='*40)\n",
    "print(f'Number of NaN for {categorical_columns[num]}: {num_nans}')"
   ]
  },
  {
   "cell_type": "code",
   "execution_count": 15,
   "metadata": {},
   "outputs": [
    {
     "name": "stdout",
     "output_type": "stream",
     "text": [
      "gravity                      26780\n",
      "nira/tanira                   8154\n",
      "other                         6430\n",
      "submersible                   4764\n",
      "swn 80                        3670\n",
      "mono                          2865\n",
      "india mark ii                 2400\n",
      "afridev                       1770\n",
      "ksb                           1415\n",
      "other - rope pump              451\n",
      "other - swn 81                 229\n",
      "windmill                       117\n",
      "india mark iii                  98\n",
      "cemo                            90\n",
      "other - play pump               85\n",
      "walimi                          48\n",
      "climax                          32\n",
      "other - mkulima/shinyanga        2\n",
      "Name: extraction_type, dtype: int64 gravity            26780\n",
      "nira/tanira         8154\n",
      "other               6430\n",
      "submersible         6179\n",
      "swn 80              3670\n",
      "mono                2865\n",
      "india mark ii       2400\n",
      "afridev             1770\n",
      "rope pump            451\n",
      "other handpump       364\n",
      "other motorpump      122\n",
      "wind-powered         117\n",
      "india mark iii        98\n",
      "Name: extraction_type_group, dtype: int64 gravity         26780\n",
      "handpump        16456\n",
      "other            6430\n",
      "submersible      6179\n",
      "motorpump        2987\n",
      "rope pump         451\n",
      "wind-powered      117\n",
      "Name: extraction_type_class, dtype: int64\n",
      "================================================================================\n"
     ]
    }
   ],
   "source": [
    "# compare the following categorical features to if they have the same information\n",
    "# 'extraction_type','extraction_type_group','extraction_type_class'\n",
    "# ==> use extraction_type and drop 'extraction_type_group'and 'extraction_type_class'\n",
    "\n",
    "a = combined_df['extraction_type'].value_counts()\n",
    "b = combined_df['extraction_type_group'].value_counts()\n",
    "c = combined_df['extraction_type_class'].value_counts()\n",
    "print(a,b,c)\n",
    "print('='*80)"
   ]
  },
  {
   "cell_type": "code",
   "execution_count": 16,
   "metadata": {},
   "outputs": [
    {
     "name": "stdout",
     "output_type": "stream",
     "text": [
      "vwc                 40507\n",
      "wug                  6515\n",
      "water board          2933\n",
      "wua                  2535\n",
      "private operator     1971\n",
      "parastatal           1768\n",
      "water authority       904\n",
      "other                 844\n",
      "company               685\n",
      "unknown               561\n",
      "other - school         99\n",
      "trust                  78\n",
      "Name: management, dtype: int64\n",
      "user-group    52490\n",
      "commercial     3638\n",
      "parastatal     1768\n",
      "other           943\n",
      "unknown         561\n",
      "Name: management_group, dtype: int64\n",
      "================================================================================\n"
     ]
    }
   ],
   "source": [
    "# Compare 'management'and 'management_group' columns \n",
    "\n",
    "print(combined_df['management'].value_counts())\n",
    "print(combined_df['management_group'].value_counts())\n",
    "print('='*80)"
   ]
  },
  {
   "cell_type": "code",
   "execution_count": 17,
   "metadata": {},
   "outputs": [
    {
     "name": "stdout",
     "output_type": "stream",
     "text": [
      "never pay                25348\n",
      "pay per bucket            8985\n",
      "pay monthly               8300\n",
      "unknown                   8157\n",
      "pay when scheme fails     3914\n",
      "pay annually              3642\n",
      "other                     1054\n",
      "Name: payment, dtype: int64\n",
      "never pay     25348\n",
      "per bucket     8985\n",
      "monthly        8300\n",
      "unknown        8157\n",
      "on failure     3914\n",
      "annually       3642\n",
      "other          1054\n",
      "Name: payment_type, dtype: int64\n",
      "================================================================================\n"
     ]
    }
   ],
   "source": [
    "# Compare 'payment' and 'payment_type' columns\n",
    "# ==> use 'payment_type' and drop 'payment'\n",
    "\n",
    "print(combined_df['payment'].value_counts())\n",
    "print(combined_df['payment_type'].value_counts())\n",
    "print('='*80)"
   ]
  },
  {
   "cell_type": "code",
   "execution_count": 18,
   "metadata": {},
   "outputs": [
    {
     "name": "stdout",
     "output_type": "stream",
     "text": [
      "soft                  50818\n",
      "salty                  4856\n",
      "unknown                1876\n",
      "milky                   804\n",
      "coloured                490\n",
      "salty abandoned         339\n",
      "fluoride                200\n",
      "fluoride abandoned       17\n",
      "Name: water_quality, dtype: int64\n",
      "good        50818\n",
      "salty        5195\n",
      "unknown      1876\n",
      "milky         804\n",
      "colored       490\n",
      "fluoride      217\n",
      "Name: quality_group, dtype: int64\n",
      "================================================================================\n"
     ]
    }
   ],
   "source": [
    "# Compare 'water_quality' and 'quality_group'\n",
    "# ==> use water quality and drop quality_group\n",
    "\n",
    "print(combined_df['water_quality'].value_counts())\n",
    "print(combined_df['quality_group'].value_counts())\n",
    "print('='*80)"
   ]
  },
  {
   "cell_type": "code",
   "execution_count": 19,
   "metadata": {},
   "outputs": [
    {
     "name": "stdout",
     "output_type": "stream",
     "text": [
      "enough          33186\n",
      "insufficient    15129\n",
      "dry              6246\n",
      "seasonal         4050\n",
      "unknown           789\n",
      "Name: quantity, dtype: int64\n",
      "enough          33186\n",
      "insufficient    15129\n",
      "dry              6246\n",
      "seasonal         4050\n",
      "unknown           789\n",
      "Name: quantity_group, dtype: int64\n",
      "================================================================================\n"
     ]
    }
   ],
   "source": [
    "# Compare 'quantity' and 'quantity_group'\n",
    "# ==> use quantity and drop quantity_group\n",
    "\n",
    "print(combined_df['quantity'].value_counts())\n",
    "print(combined_df['quantity_group'].value_counts())\n",
    "print('='*80)"
   ]
  },
  {
   "cell_type": "code",
   "execution_count": 20,
   "metadata": {},
   "outputs": [
    {
     "data": {
      "text/plain": [
       "69.93265993265993"
      ]
     },
     "execution_count": 20,
     "metadata": {},
     "output_type": "execute_result"
    }
   ],
   "source": [
    "# Determined number of wells constructed before 2002\n",
    "\n",
    "a = combined_df[combined_df['construction_year'] < 2002]\n",
    "b = len(a)/len(combined_df)*100\n",
    "b"
   ]
  },
  {
   "cell_type": "code",
   "execution_count": 21,
   "metadata": {},
   "outputs": [
    {
     "name": "stdout",
     "output_type": "stream",
     "text": [
      "communal standpipe             28522\n",
      "hand pump                      17488\n",
      "other                           6380\n",
      "communal standpipe multiple     6103\n",
      "improved spring                  784\n",
      "cattle trough                    116\n",
      "dam                                7\n",
      "Name: waterpoint_type, dtype: int64\n",
      "communal standpipe    34625\n",
      "hand pump             17488\n",
      "other                  6380\n",
      "improved spring         784\n",
      "cattle trough           116\n",
      "dam                       7\n",
      "Name: waterpoint_type_group, dtype: int64\n",
      "========================================\n"
     ]
    }
   ],
   "source": [
    "# Compare 'waterpoint_type'and 'waterpoint_type_group'\n",
    "# Keep water_type and drop the other\n",
    "\n",
    "print(combined_df['waterpoint_type'].value_counts())\n",
    "print(combined_df['waterpoint_type_group'].value_counts())\n",
    "print('='*40)"
   ]
  },
  {
   "cell_type": "code",
   "execution_count": null,
   "metadata": {},
   "outputs": [],
   "source": []
  },
  {
   "cell_type": "code",
   "execution_count": 22,
   "metadata": {},
   "outputs": [
    {
     "name": "stdout",
     "output_type": "stream",
     "text": [
      "=========== Numerical EDA ======================= Numerical EDA ============\n"
     ]
    }
   ],
   "source": [
    "print('=========== Numerical EDA ============' * 2)\n"
   ]
  },
  {
   "cell_type": "code",
   "execution_count": 23,
   "metadata": {},
   "outputs": [
    {
     "name": "stdout",
     "output_type": "stream",
     "text": [
      "<class 'pandas.core.frame.DataFrame'>\n",
      "RangeIndex: 59400 entries, 0 to 59399\n",
      "Data columns (total 10 columns):\n",
      " #   Column             Non-Null Count  Dtype  \n",
      "---  ------             --------------  -----  \n",
      " 0   id                 59400 non-null  int64  \n",
      " 1   amount_tsh         59400 non-null  float64\n",
      " 2   gps_height         59400 non-null  int64  \n",
      " 3   longitude          59400 non-null  float64\n",
      " 4   latitude           59400 non-null  float64\n",
      " 5   num_private        59400 non-null  int64  \n",
      " 6   region_code        59400 non-null  int64  \n",
      " 7   district_code      59400 non-null  int64  \n",
      " 8   population         59400 non-null  int64  \n",
      " 9   construction_year  59400 non-null  int64  \n",
      "dtypes: float64(3), int64(7)\n",
      "memory usage: 4.5 MB\n"
     ]
    }
   ],
   "source": [
    "# Check numerical colums\n",
    "numerical_features.info()"
   ]
  },
  {
   "cell_type": "code",
   "execution_count": 24,
   "metadata": {},
   "outputs": [
    {
     "data": {
      "text/html": [
       "<div>\n",
       "<style scoped>\n",
       "    .dataframe tbody tr th:only-of-type {\n",
       "        vertical-align: middle;\n",
       "    }\n",
       "\n",
       "    .dataframe tbody tr th {\n",
       "        vertical-align: top;\n",
       "    }\n",
       "\n",
       "    .dataframe thead th {\n",
       "        text-align: right;\n",
       "    }\n",
       "</style>\n",
       "<table border=\"1\" class=\"dataframe\">\n",
       "  <thead>\n",
       "    <tr style=\"text-align: right;\">\n",
       "      <th></th>\n",
       "      <th>id</th>\n",
       "      <th>amount_tsh</th>\n",
       "      <th>gps_height</th>\n",
       "      <th>longitude</th>\n",
       "      <th>latitude</th>\n",
       "      <th>num_private</th>\n",
       "      <th>region_code</th>\n",
       "      <th>district_code</th>\n",
       "      <th>population</th>\n",
       "      <th>construction_year</th>\n",
       "    </tr>\n",
       "  </thead>\n",
       "  <tbody>\n",
       "    <tr>\n",
       "      <th>count</th>\n",
       "      <td>59400.000000</td>\n",
       "      <td>59400.000000</td>\n",
       "      <td>59400.000000</td>\n",
       "      <td>59400.000000</td>\n",
       "      <td>5.940000e+04</td>\n",
       "      <td>59400.000000</td>\n",
       "      <td>59400.000000</td>\n",
       "      <td>59400.000000</td>\n",
       "      <td>59400.000000</td>\n",
       "      <td>59400.000000</td>\n",
       "    </tr>\n",
       "    <tr>\n",
       "      <th>mean</th>\n",
       "      <td>37115.131768</td>\n",
       "      <td>317.650385</td>\n",
       "      <td>668.297239</td>\n",
       "      <td>34.077427</td>\n",
       "      <td>-5.706033e+00</td>\n",
       "      <td>0.474141</td>\n",
       "      <td>15.297003</td>\n",
       "      <td>5.629747</td>\n",
       "      <td>179.909983</td>\n",
       "      <td>1300.652475</td>\n",
       "    </tr>\n",
       "    <tr>\n",
       "      <th>std</th>\n",
       "      <td>21453.128371</td>\n",
       "      <td>2997.574558</td>\n",
       "      <td>693.116350</td>\n",
       "      <td>6.567432</td>\n",
       "      <td>2.946019e+00</td>\n",
       "      <td>12.236230</td>\n",
       "      <td>17.587406</td>\n",
       "      <td>9.633649</td>\n",
       "      <td>471.482176</td>\n",
       "      <td>951.620547</td>\n",
       "    </tr>\n",
       "    <tr>\n",
       "      <th>min</th>\n",
       "      <td>0.000000</td>\n",
       "      <td>0.000000</td>\n",
       "      <td>-90.000000</td>\n",
       "      <td>0.000000</td>\n",
       "      <td>-1.164944e+01</td>\n",
       "      <td>0.000000</td>\n",
       "      <td>1.000000</td>\n",
       "      <td>0.000000</td>\n",
       "      <td>0.000000</td>\n",
       "      <td>0.000000</td>\n",
       "    </tr>\n",
       "    <tr>\n",
       "      <th>25%</th>\n",
       "      <td>18519.750000</td>\n",
       "      <td>0.000000</td>\n",
       "      <td>0.000000</td>\n",
       "      <td>33.090347</td>\n",
       "      <td>-8.540621e+00</td>\n",
       "      <td>0.000000</td>\n",
       "      <td>5.000000</td>\n",
       "      <td>2.000000</td>\n",
       "      <td>0.000000</td>\n",
       "      <td>0.000000</td>\n",
       "    </tr>\n",
       "    <tr>\n",
       "      <th>50%</th>\n",
       "      <td>37061.500000</td>\n",
       "      <td>0.000000</td>\n",
       "      <td>369.000000</td>\n",
       "      <td>34.908743</td>\n",
       "      <td>-5.021597e+00</td>\n",
       "      <td>0.000000</td>\n",
       "      <td>12.000000</td>\n",
       "      <td>3.000000</td>\n",
       "      <td>25.000000</td>\n",
       "      <td>1986.000000</td>\n",
       "    </tr>\n",
       "    <tr>\n",
       "      <th>75%</th>\n",
       "      <td>55656.500000</td>\n",
       "      <td>20.000000</td>\n",
       "      <td>1319.250000</td>\n",
       "      <td>37.178387</td>\n",
       "      <td>-3.326156e+00</td>\n",
       "      <td>0.000000</td>\n",
       "      <td>17.000000</td>\n",
       "      <td>5.000000</td>\n",
       "      <td>215.000000</td>\n",
       "      <td>2004.000000</td>\n",
       "    </tr>\n",
       "    <tr>\n",
       "      <th>max</th>\n",
       "      <td>74247.000000</td>\n",
       "      <td>350000.000000</td>\n",
       "      <td>2770.000000</td>\n",
       "      <td>40.345193</td>\n",
       "      <td>-2.000000e-08</td>\n",
       "      <td>1776.000000</td>\n",
       "      <td>99.000000</td>\n",
       "      <td>80.000000</td>\n",
       "      <td>30500.000000</td>\n",
       "      <td>2013.000000</td>\n",
       "    </tr>\n",
       "  </tbody>\n",
       "</table>\n",
       "</div>"
      ],
      "text/plain": [
       "                 id     amount_tsh    gps_height     longitude      latitude  \\\n",
       "count  59400.000000   59400.000000  59400.000000  59400.000000  5.940000e+04   \n",
       "mean   37115.131768     317.650385    668.297239     34.077427 -5.706033e+00   \n",
       "std    21453.128371    2997.574558    693.116350      6.567432  2.946019e+00   \n",
       "min        0.000000       0.000000    -90.000000      0.000000 -1.164944e+01   \n",
       "25%    18519.750000       0.000000      0.000000     33.090347 -8.540621e+00   \n",
       "50%    37061.500000       0.000000    369.000000     34.908743 -5.021597e+00   \n",
       "75%    55656.500000      20.000000   1319.250000     37.178387 -3.326156e+00   \n",
       "max    74247.000000  350000.000000   2770.000000     40.345193 -2.000000e-08   \n",
       "\n",
       "        num_private   region_code  district_code    population  \\\n",
       "count  59400.000000  59400.000000   59400.000000  59400.000000   \n",
       "mean       0.474141     15.297003       5.629747    179.909983   \n",
       "std       12.236230     17.587406       9.633649    471.482176   \n",
       "min        0.000000      1.000000       0.000000      0.000000   \n",
       "25%        0.000000      5.000000       2.000000      0.000000   \n",
       "50%        0.000000     12.000000       3.000000     25.000000   \n",
       "75%        0.000000     17.000000       5.000000    215.000000   \n",
       "max     1776.000000     99.000000      80.000000  30500.000000   \n",
       "\n",
       "       construction_year  \n",
       "count       59400.000000  \n",
       "mean         1300.652475  \n",
       "std           951.620547  \n",
       "min             0.000000  \n",
       "25%             0.000000  \n",
       "50%          1986.000000  \n",
       "75%          2004.000000  \n",
       "max          2013.000000  "
      ]
     },
     "execution_count": 24,
     "metadata": {},
     "output_type": "execute_result"
    }
   ],
   "source": [
    "numerical_features.describe()"
   ]
  },
  {
   "cell_type": "code",
   "execution_count": 25,
   "metadata": {},
   "outputs": [
    {
     "data": {
      "image/png": "[encoded data removed]",
      "text/plain": [
       "<Figure size 432x288 with 1 Axes>"
      ]
     },
     "metadata": {
      "needs_background": "light"
     },
     "output_type": "display_data"
    }
   ],
   "source": [
    "# amount_tsh\n",
    "plt.hist(data=numerical_features, x='amount_tsh',bins=10,log=True);"
   ]
  },
  {
   "cell_type": "code",
   "execution_count": 26,
   "metadata": {},
   "outputs": [
    {
     "data": {
      "image/png": "[encoded data removed]",
      "text/plain": [
       "<Figure size 432x288 with 1 Axes>"
      ]
     },
     "metadata": {
      "needs_background": "light"
     },
     "output_type": "display_data"
    }
   ],
   "source": [
    "# gps_height\n",
    "sns.histplot(data=numerical_features, x='gps_height');"
   ]
  },
  {
   "cell_type": "code",
   "execution_count": 27,
   "metadata": {},
   "outputs": [
    {
     "data": {
      "image/png": "[encoded data removed]",
      "text/plain": [
       "<Figure size 432x288 with 1 Axes>"
      ]
     },
     "metadata": {
      "needs_background": "light"
     },
     "output_type": "display_data"
    }
   ],
   "source": [
    "# longitude\n",
    "sns.histplot(data=numerical_features, x='longitude');"
   ]
  },
  {
   "cell_type": "code",
   "execution_count": 28,
   "metadata": {},
   "outputs": [
    {
     "data": {
      "image/png": "[encoded data removed]",
      "text/plain": [
       "<Figure size 432x288 with 1 Axes>"
      ]
     },
     "metadata": {
      "needs_background": "light"
     },
     "output_type": "display_data"
    }
   ],
   "source": [
    "# latitude\n",
    "sns.histplot(data=numerical_features, x='latitude');"
   ]
  },
  {
   "cell_type": "code",
   "execution_count": 29,
   "metadata": {},
   "outputs": [
    {
     "data": {
      "image/png": "[encoded data removed]",
      "text/plain": [
       "<Figure size 432x288 with 1 Axes>"
      ]
     },
     "metadata": {
      "needs_background": "light"
     },
     "output_type": "display_data"
    }
   ],
   "source": [
    "# 'num_private'\n",
    "# ==> drop 'num_private'\n",
    "\n",
    "sns.histplot(data=numerical_features, x='num_private');"
   ]
  },
  {
   "cell_type": "code",
   "execution_count": 30,
   "metadata": {},
   "outputs": [
    {
     "data": {
      "image/png": "[encoded data removed]",
      "text/plain": [
       "<Figure size 432x288 with 1 Axes>"
      ]
     },
     "metadata": {
      "needs_background": "light"
     },
     "output_type": "display_data"
    }
   ],
   "source": [
    "# region_code\n",
    "sns.histplot(data=numerical_features, x='region_code');"
   ]
  },
  {
   "cell_type": "code",
   "execution_count": 31,
   "metadata": {},
   "outputs": [
    {
     "data": {
      "image/png": "[encoded data removed]",
      "text/plain": [
       "<Figure size 432x288 with 1 Axes>"
      ]
     },
     "metadata": {
      "needs_background": "light"
     },
     "output_type": "display_data"
    }
   ],
   "source": [
    "#district_code\n",
    "#sns.histplot(data=numerical_features, x='district_code')\n",
    "plt.hist(data=numerical_features, x='district_code');"
   ]
  },
  {
   "cell_type": "code",
   "execution_count": 32,
   "metadata": {},
   "outputs": [
    {
     "data": {
      "image/png": "[encoded data removed]",
      "text/plain": [
       "<Figure size 432x288 with 1 Axes>"
      ]
     },
     "metadata": {
      "needs_background": "light"
     },
     "output_type": "display_data"
    }
   ],
   "source": [
    "# population\n",
    "#sns.histplot(data=numerical_features, x='population')\n",
    "plt.hist(data=numerical_features, x='population',log=True);"
   ]
  },
  {
   "cell_type": "code",
   "execution_count": 33,
   "metadata": {},
   "outputs": [
    {
     "data": {
      "image/png": "[encoded data removed]",
      "text/plain": [
       "<Figure size 432x288 with 1 Axes>"
      ]
     },
     "metadata": {
      "needs_background": "light"
     },
     "output_type": "display_data"
    }
   ],
   "source": [
    "# construction_year\n",
    "# ==> construction year has a lot of zeros, need to fix construction_year \n",
    "\n",
    "sns.histplot(data=numerical_features, x='construction_year',bins=20);"
   ]
  },
  {
   "cell_type": "code",
   "execution_count": null,
   "metadata": {},
   "outputs": [],
   "source": []
  },
  {
   "cell_type": "code",
   "execution_count": 34,
   "metadata": {},
   "outputs": [
    {
     "name": "stdout",
     "output_type": "stream",
     "text": [
      "<class 'pandas.core.frame.DataFrame'>\n",
      "RangeIndex: 59400 entries, 0 to 59399\n",
      "Data columns (total 25 columns):\n",
      " #   Column             Non-Null Count  Dtype  \n",
      "---  ------             --------------  -----  \n",
      " 0   amount_tsh         59400 non-null  float64\n",
      " 1   date_recorded      59400 non-null  object \n",
      " 2   gps_height         59400 non-null  int64  \n",
      " 3   longitude          59400 non-null  float64\n",
      " 4   latitude           59400 non-null  float64\n",
      " 5   basin              59400 non-null  object \n",
      " 6   region             59400 non-null  object \n",
      " 7   region_code        59400 non-null  int64  \n",
      " 8   district_code      59400 non-null  int64  \n",
      " 9   population         59400 non-null  int64  \n",
      " 10  public_meeting     56066 non-null  object \n",
      " 11  scheme_management  55523 non-null  object \n",
      " 12  permit             56344 non-null  object \n",
      " 13  construction_year  59400 non-null  int64  \n",
      " 14  extraction_type    59400 non-null  object \n",
      " 15  management         59400 non-null  object \n",
      " 16  management_group   59400 non-null  object \n",
      " 17  payment_type       59400 non-null  object \n",
      " 18  water_quality      59400 non-null  object \n",
      " 19  quantity           59400 non-null  object \n",
      " 20  source             59400 non-null  object \n",
      " 21  source_type        59400 non-null  object \n",
      " 22  source_class       59400 non-null  object \n",
      " 23  waterpoint_type    59400 non-null  object \n",
      " 24  status_group       59400 non-null  object \n",
      "dtypes: float64(3), int64(5), object(17)\n",
      "memory usage: 11.3+ MB\n"
     ]
    }
   ],
   "source": [
    "# Include the following categorical and numerical features based on EDA\n",
    "\n",
    "cols_to_drop = ['extraction_type_group', 'extraction_type_class', 'payment', \n",
    "                'quality_group', 'quantity_group', \n",
    "                'waterpoint_type_group','funder','installer','wpt_name',\n",
    "                'subvillage','lga','ward','recorded_by','scheme_name','id', \n",
    "                'num_private']\n",
    "\n",
    "keep_columns = [col for col in combined_df.columns if(col not in cols_to_drop)]\n",
    "\n",
    "combined_final_df = combined_df[keep_columns].copy()\n",
    "\n",
    "\n",
    "combined_final_df.info()\n"
   ]
  },
  {
   "cell_type": "code",
   "execution_count": 35,
   "metadata": {},
   "outputs": [
    {
     "data": {
      "text/plain": [
       "0    0.543081\n",
       "1    0.456919\n",
       "Name: rev_status, dtype: float64"
      ]
     },
     "execution_count": 35,
     "metadata": {},
     "output_type": "execute_result"
    }
   ],
   "source": [
    "# Create a 'rev_status' colum, assign 0 if 'status_group' equals functional\n",
    "# and assign 1 if 'status_group' eqauls not functional or functional needs repair \n",
    "\n",
    "combined_final_df['rev_status'] = combined_final_df['status_group'].map(lambda x: 0 if(x == 'functional') else 1)\n",
    "combined_final_df['rev_status'].value_counts(normalize=True)"
   ]
  },
  {
   "cell_type": "code",
   "execution_count": 36,
   "metadata": {},
   "outputs": [
    {
     "data": {
      "image/png": "[encoded data removed]",
      "text/plain": [
       "<Figure size 864x576 with 1 Axes>"
      ]
     },
     "metadata": {
      "needs_background": "light"
     },
     "output_type": "display_data"
    }
   ],
   "source": [
    "# Display pump status by water source\n",
    "\n",
    "status_by_source = combined_final_df.groupby(['source_type','status_group'])['status_group'].agg('count')\n",
    "\n",
    "\n",
    "\n",
    "table = pd.pivot_table(combined_final_df,values='gps_height',\n",
    "                       index='source_type',columns='status_group',\n",
    "                       aggfunc='count')\n",
    "#print(table)\n",
    "#print('='*80)\n",
    "\n",
    "\n",
    "table = table.reindex(table['functional'].sort_values(ascending=False).index)\n",
    "table_plot = table.plot.bar(figsize=(12,8),stacked=True,\n",
    "              title='Pump Status by Water Source',\n",
    "              color=['green','yellow','red'])\n",
    "\n",
    "#table_plot.set_yscale('log')\n",
    "table_plot.set_xticklabels(rotation=30,labels=['Spring','Shallow Well','Ground Water',\n",
    "                                              'River/Lake', 'Rainwater', 'Dam', 'Other'])\n",
    "table_plot.set_xlabel('')\n",
    "table_plot.legend(title='Pump Status');\n",
    "\n",
    "#plt.savefig('pump_status2.jpeg')\n",
    "\n"
   ]
  },
  {
   "cell_type": "code",
   "execution_count": 37,
   "metadata": {},
   "outputs": [
    {
     "name": "stdout",
     "output_type": "stream",
     "text": [
      "<class 'pandas.core.frame.DataFrame'>\n",
      "RangeIndex: 59400 entries, 0 to 59399\n",
      "Data columns (total 24 columns):\n",
      " #   Column             Non-Null Count  Dtype  \n",
      "---  ------             --------------  -----  \n",
      " 0   amount_tsh         59400 non-null  float64\n",
      " 1   date_recorded      59400 non-null  object \n",
      " 2   gps_height         59400 non-null  int64  \n",
      " 3   longitude          59400 non-null  float64\n",
      " 4   latitude           59400 non-null  float64\n",
      " 5   basin              59400 non-null  object \n",
      " 6   region             59400 non-null  object \n",
      " 7   region_code        59400 non-null  int64  \n",
      " 8   district_code      59400 non-null  int64  \n",
      " 9   population         59400 non-null  int64  \n",
      " 10  public_meeting     56066 non-null  object \n",
      " 11  scheme_management  55523 non-null  object \n",
      " 12  permit             56344 non-null  object \n",
      " 13  construction_year  59400 non-null  int64  \n",
      " 14  extraction_type    59400 non-null  object \n",
      " 15  management         59400 non-null  object \n",
      " 16  management_group   59400 non-null  object \n",
      " 17  payment_type       59400 non-null  object \n",
      " 18  water_quality      59400 non-null  object \n",
      " 19  quantity           59400 non-null  object \n",
      " 20  source             59400 non-null  object \n",
      " 21  source_type        59400 non-null  object \n",
      " 22  source_class       59400 non-null  object \n",
      " 23  waterpoint_type    59400 non-null  object \n",
      "dtypes: float64(3), int64(5), object(16)\n",
      "memory usage: 10.9+ MB\n"
     ]
    }
   ],
   "source": [
    "# Split dataframe into features and target copies\n",
    "\n",
    "final_features = combined_final_df.drop(['status_group','rev_status'],axis=1).copy()\n",
    "final_target = combined_final_df['rev_status'].copy()\n",
    "final_features.info()"
   ]
  },
  {
   "cell_type": "code",
   "execution_count": null,
   "metadata": {},
   "outputs": [],
   "source": []
  },
  {
   "cell_type": "code",
   "execution_count": 38,
   "metadata": {},
   "outputs": [],
   "source": [
    "# Split final_features and final_target for train_test_split\n",
    "\n",
    "X_train, X_test, y_train, y_test = train_test_split(final_features,\n",
    "                                                   final_target,\n",
    "                                                    test_size = 0.3,\n",
    "                                                   random_state=1234,\n",
    "                                                   stratify=final_target)"
   ]
  },
  {
   "cell_type": "code",
   "execution_count": 39,
   "metadata": {},
   "outputs": [
    {
     "name": "stdout",
     "output_type": "stream",
     "text": [
      "0    0.543074\n",
      "1    0.456926\n",
      "Name: rev_status, dtype: float64\n",
      "0    0.543098\n",
      "1    0.456902\n",
      "Name: rev_status, dtype: float64\n"
     ]
    }
   ],
   "source": [
    "print(y_train.value_counts(normalize=True))\n",
    "print(y_test.value_counts(normalize=True))"
   ]
  },
  {
   "cell_type": "code",
   "execution_count": 40,
   "metadata": {},
   "outputs": [
    {
     "name": "stdout",
     "output_type": "stream",
     "text": [
      "<class 'pandas.core.frame.DataFrame'>\n",
      "Int64Index: 41580 entries, 42910 to 11242\n",
      "Data columns (total 24 columns):\n",
      " #   Column             Non-Null Count  Dtype  \n",
      "---  ------             --------------  -----  \n",
      " 0   amount_tsh         41580 non-null  float64\n",
      " 1   date_recorded      41580 non-null  object \n",
      " 2   gps_height         41580 non-null  int64  \n",
      " 3   longitude          41580 non-null  float64\n",
      " 4   latitude           41580 non-null  float64\n",
      " 5   basin              41580 non-null  object \n",
      " 6   region             41580 non-null  object \n",
      " 7   region_code        41580 non-null  int64  \n",
      " 8   district_code      41580 non-null  int64  \n",
      " 9   population         41580 non-null  int64  \n",
      " 10  public_meeting     39283 non-null  object \n",
      " 11  scheme_management  38872 non-null  object \n",
      " 12  permit             39445 non-null  object \n",
      " 13  construction_year  41580 non-null  int64  \n",
      " 14  extraction_type    41580 non-null  object \n",
      " 15  management         41580 non-null  object \n",
      " 16  management_group   41580 non-null  object \n",
      " 17  payment_type       41580 non-null  object \n",
      " 18  water_quality      41580 non-null  object \n",
      " 19  quantity           41580 non-null  object \n",
      " 20  source             41580 non-null  object \n",
      " 21  source_type        41580 non-null  object \n",
      " 22  source_class       41580 non-null  object \n",
      " 23  waterpoint_type    41580 non-null  object \n",
      "dtypes: float64(3), int64(5), object(16)\n",
      "memory usage: 7.9+ MB\n"
     ]
    }
   ],
   "source": [
    "X_train.info()"
   ]
  },
  {
   "cell_type": "code",
   "execution_count": 41,
   "metadata": {},
   "outputs": [
    {
     "name": "stdout",
     "output_type": "stream",
     "text": [
      "<class 'pandas.core.frame.DataFrame'>\n",
      "Int64Index: 41580 entries, 42910 to 11242\n",
      "Data columns (total 8 columns):\n",
      " #   Column             Non-Null Count  Dtype  \n",
      "---  ------             --------------  -----  \n",
      " 0   amount_tsh         41580 non-null  float64\n",
      " 1   gps_height         41580 non-null  int64  \n",
      " 2   longitude          41580 non-null  float64\n",
      " 3   latitude           41580 non-null  float64\n",
      " 4   region_code        41580 non-null  int64  \n",
      " 5   district_code      41580 non-null  int64  \n",
      " 6   population         41580 non-null  int64  \n",
      " 7   construction_year  41580 non-null  int64  \n",
      "dtypes: float64(3), int64(5)\n",
      "memory usage: 2.9 MB\n"
     ]
    }
   ],
   "source": [
    "# Create X_trian for numerical features\n",
    "\n",
    "X_train_nums = X_train.select_dtypes(['float64','int64'])\n",
    "X_train_nums.info()"
   ]
  },
  {
   "cell_type": "code",
   "execution_count": 42,
   "metadata": {},
   "outputs": [
    {
     "name": "stdout",
     "output_type": "stream",
     "text": [
      "<class 'pandas.core.frame.DataFrame'>\n",
      "Int64Index: 41580 entries, 42910 to 11242\n",
      "Data columns (total 16 columns):\n",
      " #   Column             Non-Null Count  Dtype \n",
      "---  ------             --------------  ----- \n",
      " 0   date_recorded      41580 non-null  object\n",
      " 1   basin              41580 non-null  object\n",
      " 2   region             41580 non-null  object\n",
      " 3   public_meeting     39283 non-null  object\n",
      " 4   scheme_management  38872 non-null  object\n",
      " 5   permit             39445 non-null  object\n",
      " 6   extraction_type    41580 non-null  object\n",
      " 7   management         41580 non-null  object\n",
      " 8   management_group   41580 non-null  object\n",
      " 9   payment_type       41580 non-null  object\n",
      " 10  water_quality      41580 non-null  object\n",
      " 11  quantity           41580 non-null  object\n",
      " 12  source             41580 non-null  object\n",
      " 13  source_type        41580 non-null  object\n",
      " 14  source_class       41580 non-null  object\n",
      " 15  waterpoint_type    41580 non-null  object\n",
      "dtypes: object(16)\n",
      "memory usage: 5.4+ MB\n"
     ]
    }
   ],
   "source": [
    "# Create X_train for categorical features\n",
    "\n",
    "X_train_cats = X_train.select_dtypes('object')\n",
    "X_train_cats.info()"
   ]
  },
  {
   "cell_type": "code",
   "execution_count": 43,
   "metadata": {},
   "outputs": [],
   "source": [
    "# Setup numerical and categorical pipeline and incorporate both into\n",
    "# ColumnTransformer\n",
    "\n",
    "num_pipeline = Pipeline(steps=[\n",
    "    ('num_impute',SimpleImputer(strategy='mean')),\n",
    "    ('num_ss',StandardScaler())])\n",
    "\n",
    "cat_pipeline = Pipeline(steps=[\n",
    "    ('cat_impute',SimpleImputer(strategy='most_frequent')),\n",
    "    ('cat_ohe', OneHotEncoder(sparse=False,handle_unknown='ignore'))])\n",
    "\n",
    "cat_pipeline2 = Pipeline(steps=[\n",
    "    ('cat_impute',SimpleImputer(strategy='most_frequent')),\n",
    "    ('cat_ord',OrdinalEncoder())])\n",
    "\n",
    "trans = ColumnTransformer(transformers=[\n",
    "    ('numerical',num_pipeline,X_train_nums.columns),\n",
    "    ('categorical',cat_pipeline,X_train_cats.columns)])\n",
    "\n",
    "trans2 = ColumnTransformer(transformers=[\n",
    "    ('numerical',num_pipeline,X_train_nums.columns),\n",
    "    ('categorical',cat_pipeline,X_train_cats.columns)])\n"
   ]
  },
  {
   "cell_type": "markdown",
   "metadata": {},
   "source": [
    "# Model Development\n",
    "For model development we ultilized sklearn Pipeline and GridSearchCV to efficiently test out our models. We evaluated the data with the following models: \n",
    "* DummyClassifier as base model\n",
    "* Logistic Regression\n",
    "* DecisionTreeClassifier \n",
    "* KNeighborsClassifier\n",
    "* VotingClassifier with DecisionTreeClassifier and KNeighborsClassifier\n",
    "* RandomForestClassifier"
   ]
  },
  {
   "cell_type": "code",
   "execution_count": 44,
   "metadata": {},
   "outputs": [],
   "source": [
    "# Use this function to plot ROC curve \n",
    "\n",
    "def plot_roc_curve(y_actuals,y_predict,model_name):\n",
    "    '''\n",
    "    Compute false positive rates(fpr) and true positive rates(tpr) and display ROC curve.\n",
    "    '''\n",
    "    \n",
    "    #fig,ax = plt.subplots(figsize=(10,10))\n",
    "    fpr, tpr, thresholds = metrics.roc_curve(y_actuals, y_predict)\n",
    "    roc_auc = metrics.auc(fpr, tpr)\n",
    "    display = metrics.RocCurveDisplay(fpr=fpr, tpr=tpr, roc_auc=roc_auc,\n",
    "                                   estimator_name=model_name)\n",
    "    display.plot();     "
   ]
  },
  {
   "cell_type": "code",
   "execution_count": 45,
   "metadata": {},
   "outputs": [],
   "source": [
    "def show_results(model,actuals,predictions,model_name):\n",
    "    '''\n",
    "    Print out metrics for validation and test samples. \n",
    "    '''\n",
    "    \n",
    "    # Incorporate cv_results into pandas dataframe\n",
    "    base_cv_results = pd.DataFrame([model.cv_results_])\n",
    "    accuracy = base_cv_results['mean_test_accuracy'].mean()[0]\n",
    "    \n",
    "    print('='*40)\n",
    "    print(f'Validation recall score: {model.best_score_}')\n",
    "    print(f'Validation accuracy score: {accuracy}')\n",
    "    print(f'Best paramets: {model.best_params_}')\n",
    "    print('='*40)\n",
    "    \n",
    "    # Predict for X_test samples\n",
    "    print(f'Test sample prediction result for: {model_name}.')\n",
    "\n",
    "    recall = recall_score(actuals,predictions)\n",
    "    accuracy = accuracy_score(actuals,predictions)\n",
    "    print(f'Test recall score: {recall}\\nTest accuracy score: {accuracy}')\n",
    "    print('='*40)\n",
    "    "
   ]
  },
  {
   "cell_type": "code",
   "execution_count": 46,
   "metadata": {},
   "outputs": [
    {
     "name": "stdout",
     "output_type": "stream",
     "text": [
      "Time run this DummyClassifier: 32.915385007858276\n"
     ]
    }
   ],
   "source": [
    "# Create base model Pipe for DummyClassifier\n",
    "\n",
    "start = time.time()\n",
    "base_model_pipe = Pipeline(steps=[\n",
    "    ('trans',trans),\n",
    "    ('dummy_model',DummyClassifier(strategy='prior'))])\n",
    "\n",
    "# Specify parameters for DummyClassifier GridSearch and incorpoare base model\n",
    "# Pipe into GridSearchCV\n",
    "base_parameters = {\n",
    "    'dummy_model__random_state': [1234],\n",
    "    'dummy_model__strategy' : ['prior']\n",
    "}\n",
    "\n",
    "base_grid_model = GridSearchCV(estimator = base_model_pipe,\n",
    "                          param_grid=base_parameters,refit='recall',\n",
    "                         scoring=['recall','accuracy'])\n",
    "\n",
    "# Fit train data for base model\n",
    "base_grid_model.fit(X_train,y_train)\n",
    "\n",
    "stop = time.time()\n",
    "print(f'Time run this DummyClassifier: {stop-start}')\n"
   ]
  },
  {
   "cell_type": "code",
   "execution_count": 47,
   "metadata": {},
   "outputs": [
    {
     "name": "stdout",
     "output_type": "stream",
     "text": [
      "========================================\n",
      "Validation recall score: 0.0\n",
      "Validation accuracy score: 0.543073593073593\n",
      "Best paramets: {'dummy_model__random_state': 1234, 'dummy_model__strategy': 'prior'}\n",
      "========================================\n",
      "Test sample prediction result for: DummyClassifier.\n",
      "Test recall score: 0.0\n",
      "Test accuracy score: 0.5430976430976431\n",
      "========================================\n"
     ]
    },
    {
     "data": {
      "image/png": "[encoded data removed]",
      "text/plain": [
       "<Figure size 432x288 with 2 Axes>"
      ]
     },
     "metadata": {
      "needs_background": "light"
     },
     "output_type": "display_data"
    },
    {
     "data": {
      "image/png": "[encoded data removed]",
      "text/plain": [
       "<Figure size 432x288 with 1 Axes>"
      ]
     },
     "metadata": {
      "needs_background": "light"
     },
     "output_type": "display_data"
    }
   ],
   "source": [
    "# Predict for test samples\n",
    "\n",
    "base_y_test_pred = base_grid_model.predict(X_test)\n",
    "\n",
    "show_results(base_grid_model,y_test,base_y_test_pred,'DummyClassifier')\n",
    "\n",
    "      \n",
    "# Plot confusion and ROC curve\n",
    "#print(confusion_matrix(y_test,base_y_test_pred))\n",
    "plot_confusion_matrix(base_grid_model,X_test,y_test);\n",
    "plot_roc_curve(y_test,base_y_test_pred,'DummyClassifier')"
   ]
  },
  {
   "cell_type": "code",
   "execution_count": 48,
   "metadata": {},
   "outputs": [
    {
     "name": "stdout",
     "output_type": "stream",
     "text": [
      "Time to run this Logistic Classifier grid: 230.6871440410614\n"
     ]
    }
   ],
   "source": [
    "# Create model Pipe for Logistic Regression\n",
    "start = time.time()\n",
    "lr_model_pipe = Pipeline(steps=[\n",
    "    ('trans',trans),\n",
    "    ('lr_model',LogisticRegression())])\n",
    "\n",
    "# Specify grid parameters for lr_model and incorporate into GridSearch\n",
    "lr_parameters = {\n",
    "    'trans__numerical__num_ss__with_mean' : [True],  #tried False\n",
    "    #'lr_model__penalty' : ['l2','l1','elasticnet'], #too many warnings gets generated\n",
    "    'lr_model__random_state' : [1234],\n",
    "    'lr_model__C' : [1e3],  #tried 1e-3,1,10e3 and 10e9\n",
    "    'lr_model__max_iter' : [5e3],  #tried 1e4\n",
    "    'lr_model__solver' : ['lbfgs'] #tried also 'liblinear' \n",
    "}\n",
    "\n",
    "lr_grid_model = GridSearchCV(estimator = lr_model_pipe,\n",
    "                          param_grid=lr_parameters,refit='recall',\n",
    "                          scoring=['recall','accuracy'])\n",
    "\n",
    "# Train model with train sample\n",
    "lr_grid_model.fit(X_train,y_train)\n",
    "stop = time.time()\n",
    "print(f'Time to run this Logistic Classifier grid: {stop-start}')\n"
   ]
  },
  {
   "cell_type": "code",
   "execution_count": 49,
   "metadata": {},
   "outputs": [
    {
     "name": "stdout",
     "output_type": "stream",
     "text": [
      "========================================\n",
      "Validation recall score: 0.6378758537565288\n",
      "Validation accuracy score: 0.751948051948052\n",
      "Best paramets: {'lr_model__C': 1000.0, 'lr_model__max_iter': 5000.0, 'lr_model__random_state': 1234, 'lr_model__solver': 'lbfgs', 'trans__numerical__num_ss__with_mean': True}\n",
      "========================================\n",
      "Test sample prediction result for: Logistic Regression.\n",
      "Test recall score: 0.6478752149349054\n",
      "Test accuracy score: 0.7602693602693603\n",
      "========================================\n"
     ]
    },
    {
     "data": {
      "image/png": "[encoded data removed]",
      "text/plain": [
       "<Figure size 432x288 with 2 Axes>"
      ]
     },
     "metadata": {
      "needs_background": "light"
     },
     "output_type": "display_data"
    },
    {
     "data": {
      "image/png": "[encoded data removed]",
      "text/plain": [
       "<Figure size 432x288 with 1 Axes>"
      ]
     },
     "metadata": {
      "needs_background": "light"
     },
     "output_type": "display_data"
    }
   ],
   "source": [
    "# Predict for test samples\n",
    "\n",
    "lr_y_test_pred = lr_grid_model.predict(X_test)\n",
    "\n",
    "show_results(lr_grid_model,y_test,lr_y_test_pred,'Logistic Regression')\n",
    "\n",
    "      \n",
    "# Plot confusion and ROC curve\n",
    "#print(confusion_matrix(y_test,base_y_test_pred))\n",
    "plot_confusion_matrix(lr_grid_model,X_test,y_test);\n",
    "plot_roc_curve(y_test,lr_y_test_pred,'Logistic Regression')\n"
   ]
  },
  {
   "cell_type": "code",
   "execution_count": 50,
   "metadata": {},
   "outputs": [
    {
     "name": "stdout",
     "output_type": "stream",
     "text": [
      "Time to run this Decision Tree Classifier grid: 32.69727897644043.\n"
     ]
    }
   ],
   "source": [
    "# Create base model Pipe for DecisionTreeClassifier \n",
    "start = time.time()\n",
    "dt_model_pipe = Pipeline(steps=[\n",
    "    ('trans',trans),\n",
    "    ('dtree_model',DecisionTreeClassifier())])\n",
    "\n",
    "# Specify parameters for DecisionTreeClassifier GridSearch and incorpoare \n",
    "# dtree_model Pipe into GridSearchCV\n",
    "dt_parameters = {\n",
    "    'dtree_model__random_state' : [1234],\n",
    "    'dtree_model__max_depth': [45],   #tried 3,5,10,30,60(best),90\n",
    "    'dtree_model__min_impurity_decrease' : [0], # tried 0,0.3\n",
    "    'dtree_model__max_features' : ['auto'] #tried 'sqrt'\n",
    "}\n",
    "\n",
    "dtree_grid_model = GridSearchCV(estimator = dt_model_pipe,\n",
    "                          param_grid=dt_parameters,refit='recall',\n",
    "                         scoring=['recall','accuracy'])\n",
    "\n",
    "# Fit train data into dtree_grid_model\n",
    "dtree_grid_model.fit(X_train,y_train)\n",
    "\n",
    "\n",
    "stop = time.time()\n",
    "print(f'Time to run this Decision Tree Classifier grid: {stop-start}.')"
   ]
  },
  {
   "cell_type": "code",
   "execution_count": 51,
   "metadata": {},
   "outputs": [
    {
     "name": "stdout",
     "output_type": "stream",
     "text": [
      "========================================\n",
      "Validation recall score: 0.745354982613153\n",
      "Validation accuracy score: 0.770947570947571\n",
      "Best paramets: {'dtree_model__max_depth': 45, 'dtree_model__max_features': 'auto', 'dtree_model__min_impurity_decrease': 0, 'dtree_model__random_state': 1234}\n",
      "========================================\n",
      "Test sample prediction result for: DecisionTreeClassifier.\n",
      "Test recall score: 0.7557111274871039\n",
      "Test accuracy score: 0.7783389450056116\n",
      "========================================\n"
     ]
    },
    {
     "data": {
      "image/png": "[encoded data removed]",
      "text/plain": [
       "<Figure size 432x288 with 2 Axes>"
      ]
     },
     "metadata": {
      "needs_background": "light"
     },
     "output_type": "display_data"
    },
    {
     "data": {
      "image/png": "[encoded data removed]",
      "text/plain": [
       "<Figure size 432x288 with 1 Axes>"
      ]
     },
     "metadata": {
      "needs_background": "light"
     },
     "output_type": "display_data"
    }
   ],
   "source": [
    "# Predict for test samples\n",
    "\n",
    "dtree_y_test_pred = dtree_grid_model.predict(X_test)\n",
    "\n",
    "show_results(dtree_grid_model,y_test,dtree_y_test_pred,'DecisionTreeClassifier')\n",
    "\n",
    "      \n",
    "# Plot confusion and ROC curve\n",
    "#print(confusion_matrix(y_test,base_y_test_pred))\n",
    "plot_confusion_matrix(dtree_grid_model,X_test,y_test);\n",
    "plot_roc_curve(y_test,dtree_y_test_pred,'DecisionTreeClassifier')\n"
   ]
  },
  {
   "cell_type": "code",
   "execution_count": null,
   "metadata": {},
   "outputs": [],
   "source": [
    "\n"
   ]
  },
  {
   "cell_type": "code",
   "execution_count": 52,
   "metadata": {},
   "outputs": [
    {
     "name": "stdout",
     "output_type": "stream",
     "text": [
      "Time to run KNeighbor Classifier grid: 169.7671082019806.\n"
     ]
    }
   ],
   "source": [
    "# Create model Pipe for KNeighborsClassifier\n",
    "start = time.time()\n",
    "knn_model_pipe = Pipeline(steps=[\n",
    "    ('trans',trans),\n",
    "    ('knn_model',KNeighborsClassifier())])\n",
    "\n",
    "# Specify parameters for KNeighborsClassifier GridSearch and incorpoare \n",
    "# knn_model Pipe into GridSearchCV\n",
    "knn_parameters = {\n",
    "    'knn_model__n_neighbors' : [3], #tried 3(best),5,10 and 1 may take too long\n",
    "    'knn_model__weights' : ['uniform'],   #tried ['uniform','distance'] distance(best)\n",
    "    'knn_model__leaf_size' : [5] # 5,15\n",
    "}\n",
    "\n",
    "knn_grid_model = GridSearchCV(estimator = knn_model_pipe,\n",
    "                          param_grid=knn_parameters,refit='recall',\n",
    "                          scoring=['recall','accuracy'])\n",
    "\n",
    "# Fit train data into knn_grid_model\n",
    "knn_grid_model.fit(X_train,y_train)\n",
    "\n",
    "\n",
    "stop = time.time()\n",
    "print(f'Time to run KNeighbor Classifier grid: {stop-start}.')"
   ]
  },
  {
   "cell_type": "code",
   "execution_count": 53,
   "metadata": {},
   "outputs": [
    {
     "name": "stdout",
     "output_type": "stream",
     "text": [
      "========================================\n",
      "Validation recall score: 0.7341959934054669\n",
      "Validation accuracy score: 0.782058682058682\n",
      "Best paramets: {'knn_model__leaf_size': 5, 'knn_model__n_neighbors': 3, 'knn_model__weights': 'uniform'}\n",
      "========================================\n",
      "Test sample prediction result for: KNeighborsClassifier.\n",
      "Test recall score: 0.7557111274871039\n",
      "Test accuracy score: 0.7783389450056116\n",
      "========================================\n"
     ]
    },
    {
     "data": {
      "image/png": "[encoded data removed]",
      "text/plain": [
       "<Figure size 432x288 with 2 Axes>"
      ]
     },
     "metadata": {
      "needs_background": "light"
     },
     "output_type": "display_data"
    },
    {
     "data": {
      "image/png": "[encoded data removed]",
      "text/plain": [
       "<Figure size 432x288 with 1 Axes>"
      ]
     },
     "metadata": {
      "needs_background": "light"
     },
     "output_type": "display_data"
    }
   ],
   "source": [
    "# Predict for test samples\n",
    "\n",
    "knn_y_test_pred = knn_grid_model.predict(X_test)\n",
    "\n",
    "show_results(knn_grid_model,y_test,dtree_y_test_pred,'KNeighborsClassifier')\n",
    "\n",
    "      \n",
    "# Plot confusion and ROC curve\n",
    "#print(confusion_matrix(y_test,base_y_test_pred))\n",
    "plot_confusion_matrix(knn_grid_model,X_test,y_test);\n",
    "plot_roc_curve(y_test,knn_y_test_pred,'KNeighborsClassifier')\n"
   ]
  },
  {
   "cell_type": "code",
   "execution_count": 54,
   "metadata": {},
   "outputs": [
    {
     "name": "stdout",
     "output_type": "stream",
     "text": [
      "Time to run this vc_model grid: 159.66827702522278\n"
     ]
    }
   ],
   "source": [
    "# Instantiate DecisionTreeClassifier and KNeighbors estimater with specified \n",
    "# parameters and then instantiate VotingClassifier and incoporate decision tree\n",
    "# knn estimators into it\n",
    "start = time.time()\n",
    "dctree = DecisionTreeClassifier(random_state=1234,max_depth=60,\n",
    "                                max_features='auto')\n",
    "\n",
    "knneighbor = KNeighborsClassifier(n_neighbors=3, leaf_size=15,weights='distance')\n",
    "\n",
    "vc_model_pipe = Pipeline(steps=[\n",
    "    ('trans',trans),\n",
    "    ('vc_model',VotingClassifier(estimators=[\n",
    "        ('dctree',dctree),('knneighbor',knneighbor)]))])\n",
    "\n",
    "# Specify parameters for vc_model and incorporate into GridSearch\n",
    "vc_parameters = {\n",
    "    'vc_model__voting' : ['soft'],\n",
    "    'vc_model__weights': [[0.4,0.6]] #tried [0.4,0.6],[0.2,0.8]\n",
    "}\n",
    "\n",
    "\n",
    "vc_grid_model = GridSearchCV(estimator = vc_model_pipe,\n",
    "                          param_grid=vc_parameters,refit='recall',\n",
    "                          scoring=['recall','accuracy'])\n",
    "\n",
    "# Fit train data into vc_grid_model\n",
    "vc_grid_model.fit(X_train,y_train)\n",
    "\n",
    "\n",
    "stop = time.time()\n",
    "print(f'Time to run this vc_model grid: {stop-start}')"
   ]
  },
  {
   "cell_type": "code",
   "execution_count": 55,
   "metadata": {},
   "outputs": [
    {
     "name": "stdout",
     "output_type": "stream",
     "text": [
      "========================================\n",
      "Validation recall score: 0.7531447195245287\n",
      "Validation accuracy score: 0.785954785954786\n",
      "Best paramets: {'vc_model__voting': 'soft', 'vc_model__weights': [0.4, 0.6]}\n",
      "========================================\n",
      "Test sample prediction result for: VotingClassifier with DecisionTreeClassifier and KNeighbors.\n",
      "Test recall score: 0.7618521247850651\n",
      "Test accuracy score: 0.7924242424242425\n",
      "========================================\n"
     ]
    },
    {
     "data": {
      "image/png": "[encoded data removed]",
      "text/plain": [
       "<Figure size 432x288 with 2 Axes>"
      ]
     },
     "metadata": {
      "needs_background": "light"
     },
     "output_type": "display_data"
    },
    {
     "data": {
      "image/png": "[encoded data removed]",
      "text/plain": [
       "<Figure size 432x288 with 1 Axes>"
      ]
     },
     "metadata": {
      "needs_background": "light"
     },
     "output_type": "display_data"
    }
   ],
   "source": [
    "# Predict for test samples\n",
    "\n",
    "vc_y_test_pred = vc_grid_model.predict(X_test)\n",
    "\n",
    "show_results(vc_grid_model,y_test,vc_y_test_pred,\n",
    "             'VotingClassifier with DecisionTreeClassifier and KNeighbors')\n",
    "\n",
    "      \n",
    "# Plot confusion and ROC curve\n",
    "#print(confusion_matrix(y_test,base_y_test_pred))\n",
    "plot_confusion_matrix(vc_grid_model,X_test,y_test);\n",
    "plot_roc_curve(y_test,vc_y_test_pred,\n",
    "               'VotingClassifier with DecisionTreeClassifier and KNeighbors')\n"
   ]
  },
  {
   "cell_type": "code",
   "execution_count": null,
   "metadata": {},
   "outputs": [],
   "source": []
  },
  {
   "cell_type": "code",
   "execution_count": 56,
   "metadata": {},
   "outputs": [
    {
     "name": "stdout",
     "output_type": "stream",
     "text": [
      "Time to run this rfc_grid_model and grid: 142.37469696998596.\n"
     ]
    }
   ],
   "source": [
    "# Create model Pipe for RandomForestClassifier\n",
    "start = time.time()\n",
    "rfc_model_pipe = Pipeline(steps=[\n",
    "    ('trans',trans),\n",
    "    ('rfc_model',RandomForestClassifier())])\n",
    "\n",
    "# Specify parameters rfc_model_pipe GridSearch and incorpoare \n",
    "# rfc_model pipe into GridSearchCV\n",
    "rfc_parameters = {\n",
    "    'rfc_model__n_estimators': [100], #tried 100,200\n",
    "    'rfc_model__criterion' : ['gini', 'entropy'],  #log_loss gives warnings\n",
    "    'rfc_model__max_samples' : [0.5],  # tried 0.3,0.5\n",
    "    'rfc_model__max_features' : ['sqrt'], # tried 'sqrt','log2'\n",
    "    'rfc_model__random_state' : [123],\n",
    "    'rfc_model__max_depth' : [60] # tried 30,60,75\n",
    "}\n",
    "\n",
    "rfc_grid_model = GridSearchCV(estimator = rfc_model_pipe,\n",
    "                          param_grid=rfc_parameters,refit='recall',\n",
    "                          scoring=['recall','accuracy'])\n",
    "\n",
    "# Fit train data into rfc_grid_model\n",
    "rfc_grid_model.fit(X_train,y_train)\n",
    "stop = time.time()\n",
    "print(f'Time to run this rfc_grid_model and grid: {stop-start}.')"
   ]
  },
  {
   "cell_type": "code",
   "execution_count": 57,
   "metadata": {},
   "outputs": [
    {
     "name": "stdout",
     "output_type": "stream",
     "text": [
      "========================================\n",
      "Validation recall score: 0.7571974480819053\n",
      "Validation accuracy score: 0.8162097162097162\n",
      "Best paramets: {'rfc_model__criterion': 'entropy', 'rfc_model__max_depth': 60, 'rfc_model__max_features': 'sqrt', 'rfc_model__max_samples': 0.5, 'rfc_model__n_estimators': 100, 'rfc_model__random_state': 123}\n",
      "========================================\n",
      "Test sample prediction result for: RandomForestClassifier.\n",
      "Test recall score: 0.7704495210022108\n",
      "Test accuracy score: 0.8282828282828283\n",
      "========================================\n"
     ]
    },
    {
     "data": {
      "image/png": "[encoded data removed]",
      "text/plain": [
       "<Figure size 432x288 with 2 Axes>"
      ]
     },
     "metadata": {
      "needs_background": "light"
     },
     "output_type": "display_data"
    },
    {
     "data": {
      "image/png": "[encoded data removed]",
      "text/plain": [
       "<Figure size 432x288 with 1 Axes>"
      ]
     },
     "metadata": {
      "needs_background": "light"
     },
     "output_type": "display_data"
    }
   ],
   "source": [
    "# Predict for test samples\n",
    "\n",
    "rfc_y_test_pred = rfc_grid_model.predict(X_test)\n",
    "\n",
    "show_results(rfc_grid_model,y_test,rfc_y_test_pred,'RandomForestClassifier')\n",
    "\n",
    "      \n",
    "# Plot confusion and ROC curve\n",
    "#print(confusion_matrix(y_test,base_y_test_pred))\n",
    "plot_confusion_matrix(rfc_grid_model,X_test,y_test);\n",
    "plot_roc_curve(y_test,rfc_y_test_pred,'RandomForestClassifier')\n"
   ]
  },
  {
   "cell_type": "markdown",
   "metadata": {},
   "source": [
    "# Conclusion\n",
    "\n",
    "This project is a binary classification problem where prediction models are trained to predict the status of water pumps, especially those water pumps needing repair or operationally non-functional. Because of our business objective, we have decided to use recall for our model primary metric and accuracy for overall performance. Recall in this situation means what percentage of water pumps that are broken or need repair can our model predict correctly. Our base model is DummyClassifier which gave a recall 0 and accuracy of 0.54.  Logistic Regression provides better predictions with a recall of 0.65 and accuracy of 0.76.  The next four models which are DecisionTree, KNeighbors, VotingClassifier (with DecisonTree and KNeighbors and Random Forest give similar result with a recall between 0.76 - 0.77 and accuracy between 0.78 - 0.83. RandomForest gives a slightly better performance with a recall of 0.77 and accuracy of 0.83 and therefore it is our best model.  "
   ]
  },
  {
   "cell_type": "code",
   "execution_count": null,
   "metadata": {},
   "outputs": [],
   "source": []
  }
 ],
 "metadata": {
  "kernelspec": {
   "display_name": "Python (learn-env)",
   "language": "python",
   "name": "learn-env"
  },
  "language_info": {
   "codemirror_mode": {
    "name": "ipython",
    "version": 3
   },
   "file_extension": ".py",
   "mimetype": "text/x-python",
   "name": "python",
   "nbconvert_exporter": "python",
   "pygments_lexer": "ipython3",
   "version": "3.8.5"
  },
  "vscode": {
   "interpreter": {
    "hash": "88e6fdba71888a8f44f9c7a72d9c8e02089decc52d209b00924c42afb6a002a6"
   }
  }
 },
 "nbformat": 4,
 "nbformat_minor": 4
}
